{
 "cells": [
  {
   "cell_type": "code",
   "execution_count": 1,
   "metadata": {
    "collapsed": true
   },
   "outputs": [
    {
     "name": "stderr",
     "output_type": "stream",
     "text": [
      "── \u001b[1mAttaching packages\u001b[22m ─────────────────────────────────────── tidyverse 1.2.1 ──\n",
      "\u001b[32m✔\u001b[39m \u001b[34mggplot2\u001b[39m 3.2.1     \u001b[32m✔\u001b[39m \u001b[34mpurrr  \u001b[39m 0.3.2\n",
      "\u001b[32m✔\u001b[39m \u001b[34mtibble \u001b[39m 2.1.3     \u001b[32m✔\u001b[39m \u001b[34mdplyr  \u001b[39m 0.8.3\n",
      "\u001b[32m✔\u001b[39m \u001b[34mtidyr  \u001b[39m 1.0.0     \u001b[32m✔\u001b[39m \u001b[34mstringr\u001b[39m 1.4.0\n",
      "\u001b[32m✔\u001b[39m \u001b[34mreadr  \u001b[39m 1.3.1     \u001b[32m✔\u001b[39m \u001b[34mforcats\u001b[39m 0.4.0\n",
      "── \u001b[1mConflicts\u001b[22m ────────────────────────────────────────── tidyverse_conflicts() ──\n",
      "\u001b[31m✖\u001b[39m \u001b[34mdplyr\u001b[39m::\u001b[32mfilter()\u001b[39m masks \u001b[34mstats\u001b[39m::filter()\n",
      "\u001b[31m✖\u001b[39m \u001b[34mdplyr\u001b[39m::\u001b[32mlag()\u001b[39m    masks \u001b[34mstats\u001b[39m::lag()\n"
     ]
    }
   ],
   "source": [
    "library(tidyverse)"
   ]
  },
  {
   "cell_type": "code",
   "execution_count": 26,
   "metadata": {},
   "outputs": [
    {
     "data": {
      "text/html": [
       "<strong>a:</strong> 1"
      ],
      "text/latex": [
       "\\textbf{a:} 1"
      ],
      "text/markdown": [
       "**a:** 1"
      ],
      "text/plain": [
       "a \n",
       "1 "
      ]
     },
     "metadata": {},
     "output_type": "display_data"
    },
    {
     "data": {
      "text/html": [
       "<ol class=list-inline>\n",
       "\t<li>1</li>\n",
       "\t<li>1.47368421052632</li>\n",
       "\t<li>1.94736842105263</li>\n",
       "\t<li>2.42105263157895</li>\n",
       "\t<li>2.89473684210526</li>\n",
       "\t<li>3.36842105263158</li>\n",
       "\t<li>3.84210526315789</li>\n",
       "\t<li>4.31578947368421</li>\n",
       "\t<li>4.78947368421053</li>\n",
       "\t<li>5.26315789473684</li>\n",
       "\t<li>5.73684210526316</li>\n",
       "\t<li>6.21052631578947</li>\n",
       "\t<li>6.68421052631579</li>\n",
       "\t<li>7.15789473684211</li>\n",
       "\t<li>7.63157894736842</li>\n",
       "\t<li>8.10526315789474</li>\n",
       "\t<li>8.57894736842105</li>\n",
       "\t<li>9.05263157894737</li>\n",
       "\t<li>9.52631578947368</li>\n",
       "\t<li>10</li>\n",
       "</ol>\n"
      ],
      "text/latex": [
       "\\begin{enumerate*}\n",
       "\\item 1\n",
       "\\item 1.47368421052632\n",
       "\\item 1.94736842105263\n",
       "\\item 2.42105263157895\n",
       "\\item 2.89473684210526\n",
       "\\item 3.36842105263158\n",
       "\\item 3.84210526315789\n",
       "\\item 4.31578947368421\n",
       "\\item 4.78947368421053\n",
       "\\item 5.26315789473684\n",
       "\\item 5.73684210526316\n",
       "\\item 6.21052631578947\n",
       "\\item 6.68421052631579\n",
       "\\item 7.15789473684211\n",
       "\\item 7.63157894736842\n",
       "\\item 8.10526315789474\n",
       "\\item 8.57894736842105\n",
       "\\item 9.05263157894737\n",
       "\\item 9.52631578947368\n",
       "\\item 10\n",
       "\\end{enumerate*}\n"
      ],
      "text/markdown": [
       "1. 1\n",
       "2. 1.47368421052632\n",
       "3. 1.94736842105263\n",
       "4. 2.42105263157895\n",
       "5. 2.89473684210526\n",
       "6. 3.36842105263158\n",
       "7. 3.84210526315789\n",
       "8. 4.31578947368421\n",
       "9. 4.78947368421053\n",
       "10. 5.26315789473684\n",
       "11. 5.73684210526316\n",
       "12. 6.21052631578947\n",
       "13. 6.68421052631579\n",
       "14. 7.15789473684211\n",
       "15. 7.63157894736842\n",
       "16. 8.10526315789474\n",
       "17. 8.57894736842105\n",
       "18. 9.05263157894737\n",
       "19. 9.52631578947368\n",
       "20. 10\n",
       "\n",
       "\n"
      ],
      "text/plain": [
       " [1]  1.000000  1.473684  1.947368  2.421053  2.894737  3.368421  3.842105\n",
       " [8]  4.315789  4.789474  5.263158  5.736842  6.210526  6.684211  7.157895\n",
       "[15]  7.631579  8.105263  8.578947  9.052632  9.526316 10.000000"
      ]
     },
     "metadata": {},
     "output_type": "display_data"
    },
    {
     "data": {
      "text/html": [
       "<ol class=list-inline>\n",
       "\t<li>1</li>\n",
       "\t<li>1.5</li>\n",
       "\t<li>2</li>\n",
       "\t<li>2.5</li>\n",
       "\t<li>3</li>\n",
       "\t<li>3.5</li>\n",
       "\t<li>4</li>\n",
       "\t<li>4.5</li>\n",
       "\t<li>5</li>\n",
       "\t<li>5.5</li>\n",
       "\t<li>6</li>\n",
       "\t<li>6.5</li>\n",
       "\t<li>7</li>\n",
       "\t<li>7.5</li>\n",
       "\t<li>8</li>\n",
       "\t<li>8.5</li>\n",
       "\t<li>9</li>\n",
       "\t<li>9.5</li>\n",
       "\t<li>10</li>\n",
       "</ol>\n"
      ],
      "text/latex": [
       "\\begin{enumerate*}\n",
       "\\item 1\n",
       "\\item 1.5\n",
       "\\item 2\n",
       "\\item 2.5\n",
       "\\item 3\n",
       "\\item 3.5\n",
       "\\item 4\n",
       "\\item 4.5\n",
       "\\item 5\n",
       "\\item 5.5\n",
       "\\item 6\n",
       "\\item 6.5\n",
       "\\item 7\n",
       "\\item 7.5\n",
       "\\item 8\n",
       "\\item 8.5\n",
       "\\item 9\n",
       "\\item 9.5\n",
       "\\item 10\n",
       "\\end{enumerate*}\n"
      ],
      "text/markdown": [
       "1. 1\n",
       "2. 1.5\n",
       "3. 2\n",
       "4. 2.5\n",
       "5. 3\n",
       "6. 3.5\n",
       "7. 4\n",
       "8. 4.5\n",
       "9. 5\n",
       "10. 5.5\n",
       "11. 6\n",
       "12. 6.5\n",
       "13. 7\n",
       "14. 7.5\n",
       "15. 8\n",
       "16. 8.5\n",
       "17. 9\n",
       "18. 9.5\n",
       "19. 10\n",
       "\n",
       "\n"
      ],
      "text/plain": [
       " [1]  1.0  1.5  2.0  2.5  3.0  3.5  4.0  4.5  5.0  5.5  6.0  6.5  7.0  7.5  8.0\n",
       "[16]  8.5  9.0  9.5 10.0"
      ]
     },
     "metadata": {},
     "output_type": "display_data"
    }
   ],
   "source": [
    "x = matrix(c(1:10));\n",
    "y = matrix(c(1,2,3,10,11,13));\n",
    "z = matrix(c('a','b','c','d','e'));\n",
    "names(x)=z\n",
    "x['a']\n",
    "#Length.out is used to print out a sequence with a specified length\n",
    "seq(1,10,length.out =20)\n",
    "#by is used to print out values in the sequence incremented by the specified value.\n",
    "seq(1,10,by=0.5)"
   ]
  },
  {
   "cell_type": "code",
   "execution_count": 16,
   "metadata": {},
   "outputs": [
    {
     "data": {
      "text/html": [
       "<table>\n",
       "<caption>A matrix: 10 × 1 of type int</caption>\n",
       "<tbody>\n",
       "\t<tr><td> 1</td></tr>\n",
       "\t<tr><td> 2</td></tr>\n",
       "\t<tr><td> 3</td></tr>\n",
       "\t<tr><td> 4</td></tr>\n",
       "\t<tr><td> 5</td></tr>\n",
       "\t<tr><td> 6</td></tr>\n",
       "\t<tr><td> 7</td></tr>\n",
       "\t<tr><td> 8</td></tr>\n",
       "\t<tr><td> 9</td></tr>\n",
       "\t<tr><td>10</td></tr>\n",
       "</tbody>\n",
       "</table>\n"
      ],
      "text/latex": [
       "A matrix: 10 × 1 of type int\n",
       "\\begin{tabular}{l}\n",
       "\t  1\\\\\n",
       "\t  2\\\\\n",
       "\t  3\\\\\n",
       "\t  4\\\\\n",
       "\t  5\\\\\n",
       "\t  6\\\\\n",
       "\t  7\\\\\n",
       "\t  8\\\\\n",
       "\t  9\\\\\n",
       "\t 10\\\\\n",
       "\\end{tabular}\n"
      ],
      "text/markdown": [
       "\n",
       "A matrix: 10 × 1 of type int\n",
       "\n",
       "|  1 |\n",
       "|  2 |\n",
       "|  3 |\n",
       "|  4 |\n",
       "|  5 |\n",
       "|  6 |\n",
       "|  7 |\n",
       "|  8 |\n",
       "|  9 |\n",
       "| 10 |\n",
       "\n"
      ],
      "text/plain": [
       "      [,1]\n",
       " [1,]  1  \n",
       " [2,]  2  \n",
       " [3,]  3  \n",
       " [4,]  4  \n",
       " [5,]  5  \n",
       " [6,]  6  \n",
       " [7,]  7  \n",
       " [8,]  8  \n",
       " [9,]  9  \n",
       "[10,] 10  "
      ]
     },
     "metadata": {},
     "output_type": "display_data"
    },
    {
     "data": {
      "text/html": [
       "<table>\n",
       "<caption>A matrix: 4 × 1 of type chr</caption>\n",
       "<tbody>\n",
       "\t<tr><td>a</td></tr>\n",
       "\t<tr><td>b</td></tr>\n",
       "\t<tr><td>0</td></tr>\n",
       "\t<tr><td>d</td></tr>\n",
       "</tbody>\n",
       "</table>\n"
      ],
      "text/latex": [
       "A matrix: 4 × 1 of type chr\n",
       "\\begin{tabular}{l}\n",
       "\t a\\\\\n",
       "\t b\\\\\n",
       "\t 0\\\\\n",
       "\t d\\\\\n",
       "\\end{tabular}\n"
      ],
      "text/markdown": [
       "\n",
       "A matrix: 4 × 1 of type chr\n",
       "\n",
       "| a |\n",
       "| b |\n",
       "| 0 |\n",
       "| d |\n",
       "\n"
      ],
      "text/plain": [
       "     [,1]\n",
       "[1,] a   \n",
       "[2,] b   \n",
       "[3,] 0   \n",
       "[4,] d   "
      ]
     },
     "metadata": {},
     "output_type": "display_data"
    },
    {
     "data": {
      "text/html": [
       "'0'"
      ],
      "text/latex": [
       "'0'"
      ],
      "text/markdown": [
       "'0'"
      ],
      "text/plain": [
       "[1] \"0\""
      ]
     },
     "metadata": {},
     "output_type": "display_data"
    },
    {
     "data": {
      "text/html": [
       "'character'"
      ],
      "text/latex": [
       "'character'"
      ],
      "text/markdown": [
       "'character'"
      ],
      "text/plain": [
       "[1] \"character\""
      ]
     },
     "metadata": {},
     "output_type": "display_data"
    },
    {
     "ename": "ERROR",
     "evalue": "Error in x %*% x: non-conformable arguments\n",
     "output_type": "error",
     "traceback": [
      "Error in x %*% x: non-conformable arguments\nTraceback:\n"
     ]
    }
   ],
   "source": [
    "x\n",
    "z\n",
    "z[3]\n",
    "typeof(z[3])\n"
   ]
  },
  {
   "cell_type": "code",
   "execution_count": 4,
   "metadata": {
    "collapsed": true
   },
   "outputs": [
    {
     "data": {
      "text/html": [
       "'matrix'"
      ],
      "text/latex": [
       "'matrix'"
      ],
      "text/markdown": [
       "'matrix'"
      ],
      "text/plain": [
       "[1] \"matrix\""
      ]
     },
     "metadata": {},
     "output_type": "display_data"
    },
    {
     "name": "stdout",
     "output_type": "stream",
     "text": [
      " int [1:10, 1] 1 2 3 4 5 6 7 8 9 10\n"
     ]
    }
   ],
   "source": [
    "class(x)\n",
    "str(x)"
   ]
  },
  {
   "cell_type": "code",
   "execution_count": 5,
   "metadata": {
    "collapsed": true
   },
   "outputs": [
    {
     "data": {
      "text/html": [
       "<ol class=list-inline>\n",
       "\t<li>1</li>\n",
       "\t<li>2</li>\n",
       "\t<li>3</li>\n",
       "\t<li>4</li>\n",
       "\t<li>5</li>\n",
       "\t<li>6</li>\n",
       "\t<li>7</li>\n",
       "\t<li>8</li>\n",
       "\t<li>9</li>\n",
       "\t<li>10</li>\n",
       "\t<li>22</li>\n",
       "\t<li>22</li>\n",
       "\t<li>21</li>\n",
       "</ol>\n"
      ],
      "text/latex": [
       "\\begin{enumerate*}\n",
       "\\item 1\n",
       "\\item 2\n",
       "\\item 3\n",
       "\\item 4\n",
       "\\item 5\n",
       "\\item 6\n",
       "\\item 7\n",
       "\\item 8\n",
       "\\item 9\n",
       "\\item 10\n",
       "\\item 22\n",
       "\\item 22\n",
       "\\item 21\n",
       "\\end{enumerate*}\n"
      ],
      "text/markdown": [
       "1. 1\n",
       "2. 2\n",
       "3. 3\n",
       "4. 4\n",
       "5. 5\n",
       "6. 6\n",
       "7. 7\n",
       "8. 8\n",
       "9. 9\n",
       "10. 10\n",
       "11. 22\n",
       "12. 22\n",
       "13. 21\n",
       "\n",
       "\n"
      ],
      "text/plain": [
       " [1]  1  2  3  4  5  6  7  8  9 10 22 22 21"
      ]
     },
     "metadata": {},
     "output_type": "display_data"
    }
   ],
   "source": [
    "# c is used to create and add elements to a vector. Giving a pre-existing vector as the first argument results in addition of the elements to the vector.\n",
    "x <-c(x,22)\n",
    "x <-c(x,22)\n",
    "x <- c(x,21)\n",
    "x"
   ]
  },
  {
   "cell_type": "code",
   "execution_count": 6,
   "metadata": {
    "collapsed": true
   },
   "outputs": [
    {
     "data": {
      "text/html": [
       "<ol class=list-inline>\n",
       "\t<li>1</li>\n",
       "\t<li>2</li>\n",
       "\t<li>3</li>\n",
       "\t<li>4</li>\n",
       "\t<li>5</li>\n",
       "\t<li>6</li>\n",
       "\t<li>7</li>\n",
       "\t<li>8</li>\n",
       "\t<li>9</li>\n",
       "\t<li>10</li>\n",
       "</ol>\n"
      ],
      "text/latex": [
       "\\begin{enumerate*}\n",
       "\\item 1\n",
       "\\item 2\n",
       "\\item 3\n",
       "\\item 4\n",
       "\\item 5\n",
       "\\item 6\n",
       "\\item 7\n",
       "\\item 8\n",
       "\\item 9\n",
       "\\item 10\n",
       "\\end{enumerate*}\n"
      ],
      "text/markdown": [
       "1. 1\n",
       "2. 2\n",
       "3. 3\n",
       "4. 4\n",
       "5. 5\n",
       "6. 6\n",
       "7. 7\n",
       "8. 8\n",
       "9. 9\n",
       "10. 10\n",
       "\n",
       "\n"
      ],
      "text/plain": [
       " [1]  1  2  3  4  5  6  7  8  9 10"
      ]
     },
     "metadata": {},
     "output_type": "display_data"
    }
   ],
   "source": [
    "series <- 1:10 \n",
    "seq(series) \n",
    "t =seq(from=1, to=10, by=0.1)\n"
   ]
  },
  {
   "cell_type": "code",
   "execution_count": 7,
   "metadata": {
    "collapsed": true
   },
   "outputs": [
    {
     "data": {
      "text/html": [
       "<ol class=list-inline>\n",
       "\t<li>1</li>\n",
       "\t<li>2</li>\n",
       "\t<li>&lt;NA&gt;</li>\n",
       "\t<li>4</li>\n",
       "\t<li>5</li>\n",
       "</ol>\n"
      ],
      "text/latex": [
       "\\begin{enumerate*}\n",
       "\\item 1\n",
       "\\item 2\n",
       "\\item <NA>\n",
       "\\item 4\n",
       "\\item 5\n",
       "\\end{enumerate*}\n"
      ],
      "text/markdown": [
       "1. 1\n",
       "2. 2\n",
       "3. &lt;NA&gt;\n",
       "4. 4\n",
       "5. 5\n",
       "\n",
       "\n"
      ],
      "text/plain": [
       "[1]  1  2 NA  4  5"
      ]
     },
     "metadata": {},
     "output_type": "display_data"
    },
    {
     "data": {
      "text/html": [
       "<ol class=list-inline>\n",
       "\t<li>FALSE</li>\n",
       "\t<li>FALSE</li>\n",
       "\t<li>TRUE</li>\n",
       "\t<li>FALSE</li>\n",
       "\t<li>FALSE</li>\n",
       "</ol>\n"
      ],
      "text/latex": [
       "\\begin{enumerate*}\n",
       "\\item FALSE\n",
       "\\item FALSE\n",
       "\\item TRUE\n",
       "\\item FALSE\n",
       "\\item FALSE\n",
       "\\end{enumerate*}\n"
      ],
      "text/markdown": [
       "1. FALSE\n",
       "2. FALSE\n",
       "3. TRUE\n",
       "4. FALSE\n",
       "5. FALSE\n",
       "\n",
       "\n"
      ],
      "text/plain": [
       "[1] FALSE FALSE  TRUE FALSE FALSE"
      ]
     },
     "metadata": {},
     "output_type": "display_data"
    },
    {
     "data": {
      "text/html": [
       "TRUE"
      ],
      "text/latex": [
       "TRUE"
      ],
      "text/markdown": [
       "TRUE"
      ],
      "text/plain": [
       "[1] TRUE"
      ]
     },
     "metadata": {},
     "output_type": "display_data"
    }
   ],
   "source": [
    "x <- c(1,2,NA,4,5)\n",
    "x\n",
    "is.na(x)\n",
    "anyNA(x)"
   ]
  },
  {
   "cell_type": "code",
   "execution_count": 8,
   "metadata": {
    "collapsed": true
   },
   "outputs": [
    {
     "data": {
      "text/html": [
       "<ol class=list-inline>\n",
       "\t<li>'TRUE'</li>\n",
       "\t<li>'Hello'</li>\n",
       "\t<li>'1'</li>\n",
       "\t<li>'2'</li>\n",
       "</ol>\n"
      ],
      "text/latex": [
       "\\begin{enumerate*}\n",
       "\\item 'TRUE'\n",
       "\\item 'Hello'\n",
       "\\item '1'\n",
       "\\item '2'\n",
       "\\end{enumerate*}\n"
      ],
      "text/markdown": [
       "1. 'TRUE'\n",
       "2. 'Hello'\n",
       "3. '1'\n",
       "4. '2'\n",
       "\n",
       "\n"
      ],
      "text/plain": [
       "[1] \"TRUE\"  \"Hello\" \"1\"     \"2\"    "
      ]
     },
     "metadata": {},
     "output_type": "display_data"
    },
    {
     "data": {
      "text/html": [
       "'character'"
      ],
      "text/latex": [
       "'character'"
      ],
      "text/markdown": [
       "'character'"
      ],
      "text/plain": [
       "[1] \"character\""
      ]
     },
     "metadata": {},
     "output_type": "display_data"
    },
    {
     "data": {
      "text/html": [
       "4"
      ],
      "text/latex": [
       "4"
      ],
      "text/markdown": [
       "4"
      ],
      "text/plain": [
       "[1] 4"
      ]
     },
     "metadata": {},
     "output_type": "display_data"
    },
    {
     "data": {
      "text/plain": [
       "NULL"
      ]
     },
     "metadata": {},
     "output_type": "display_data"
    }
   ],
   "source": [
    "xx <- c(T,\"Hello\",1,2.0)\n",
    "xx\n",
    "class(xx)\n",
    "length(xx)\n",
    "dimnames(xx)"
   ]
  },
  {
   "cell_type": "code",
   "execution_count": 9,
   "metadata": {
    "collapsed": true
   },
   "outputs": [
    {
     "data": {
      "text/html": [
       "<table>\n",
       "<caption>A matrix: 2 × 5 of type int</caption>\n",
       "<tbody>\n",
       "\t<tr><td>1</td><td>3</td><td>5</td><td>7</td><td> 9</td></tr>\n",
       "\t<tr><td>2</td><td>4</td><td>6</td><td>8</td><td>10</td></tr>\n",
       "</tbody>\n",
       "</table>\n"
      ],
      "text/latex": [
       "A matrix: 2 × 5 of type int\n",
       "\\begin{tabular}{lllll}\n",
       "\t 1 & 3 & 5 & 7 &  9\\\\\n",
       "\t 2 & 4 & 6 & 8 & 10\\\\\n",
       "\\end{tabular}\n"
      ],
      "text/markdown": [
       "\n",
       "A matrix: 2 × 5 of type int\n",
       "\n",
       "| 1 | 3 | 5 | 7 |  9 |\n",
       "| 2 | 4 | 6 | 8 | 10 |\n",
       "\n"
      ],
      "text/plain": [
       "     [,1] [,2] [,3] [,4] [,5]\n",
       "[1,] 1    3    5    7     9  \n",
       "[2,] 2    4    6    8    10  "
      ]
     },
     "metadata": {},
     "output_type": "display_data"
    }
   ],
   "source": [
    "m <- matrix(nrow=2,ncol=2)\n",
    "m <- 1:10\n",
    "#accepting m as a list, and then coercing it into dimensions of 2x5\n",
    "dim(m) <- c(2,5)\n",
    "m"
   ]
  },
  {
   "cell_type": "code",
   "execution_count": 10,
   "metadata": {
    "collapsed": true
   },
   "outputs": [
    {
     "data": {
      "text/html": [
       "<table>\n",
       "<caption>A matrix: 2 × 5 of type chr</caption>\n",
       "<tbody>\n",
       "\t<tr><td>1</td><td>2</td><td>3</td><td>4</td><td>5</td></tr>\n",
       "\t<tr><td>a</td><td>b</td><td>c</td><td>d</td><td>e</td></tr>\n",
       "</tbody>\n",
       "</table>\n"
      ],
      "text/latex": [
       "A matrix: 2 × 5 of type chr\n",
       "\\begin{tabular}{lllll}\n",
       "\t 1 & 2 & 3 & 4 & 5\\\\\n",
       "\t a & b & c & d & e\\\\\n",
       "\\end{tabular}\n"
      ],
      "text/markdown": [
       "\n",
       "A matrix: 2 × 5 of type chr\n",
       "\n",
       "| 1 | 2 | 3 | 4 | 5 |\n",
       "| a | b | c | d | e |\n",
       "\n"
      ],
      "text/plain": [
       "     [,1] [,2] [,3] [,4] [,5]\n",
       "[1,] 1    2    3    4    5   \n",
       "[2,] a    b    c    d    e   "
      ]
     },
     "metadata": {},
     "output_type": "display_data"
    },
    {
     "name": "stdout",
     "output_type": "stream",
     "text": [
      "[1] \"Matrix with byrow = FALSE\"\n"
     ]
    },
    {
     "data": {
      "text/html": [
       "<table>\n",
       "<caption>A matrix: 2 × 5 of type chr</caption>\n",
       "<tbody>\n",
       "\t<tr><td>1</td><td>3</td><td>5</td><td>b</td><td>d</td></tr>\n",
       "\t<tr><td>2</td><td>4</td><td>a</td><td>c</td><td>e</td></tr>\n",
       "</tbody>\n",
       "</table>\n"
      ],
      "text/latex": [
       "A matrix: 2 × 5 of type chr\n",
       "\\begin{tabular}{lllll}\n",
       "\t 1 & 3 & 5 & b & d\\\\\n",
       "\t 2 & 4 & a & c & e\\\\\n",
       "\\end{tabular}\n"
      ],
      "text/markdown": [
       "\n",
       "A matrix: 2 × 5 of type chr\n",
       "\n",
       "| 1 | 3 | 5 | b | d |\n",
       "| 2 | 4 | a | c | e |\n",
       "\n"
      ],
      "text/plain": [
       "     [,1] [,2] [,3] [,4] [,5]\n",
       "[1,] 1    3    5    b    d   \n",
       "[2,] 2    4    a    c    e   "
      ]
     },
     "metadata": {},
     "output_type": "display_data"
    }
   ],
   "source": [
    "x <- c(1:5)\n",
    "y <- c('a','b','c','d','e')\n",
    "mat = matrix(c(x,y),nrow=2,ncol=5,byrow=TRUE)\n",
    "mat\n",
    "print('Matrix with byrow = FALSE')\n",
    "mat = matrix(c(x,y),nrow=2,ncol=5)\n",
    "mat"
   ]
  },
  {
   "cell_type": "code",
   "execution_count": 11,
   "metadata": {
    "collapsed": true
   },
   "outputs": [
    {
     "data": {
      "text/html": [
       "<ol>\n",
       "\t<li>1</li>\n",
       "\t<li>2</li>\n",
       "\t<li>3</li>\n",
       "\t<li>'irfan'</li>\n",
       "\t<li>'hello'</li>\n",
       "\t<li>TRUE</li>\n",
       "\t<li><ol>\n",
       "\t<li>'a'</li>\n",
       "\t<li>'b'</li>\n",
       "\t<li>'c'</li>\n",
       "</ol>\n",
       "</li>\n",
       "</ol>\n"
      ],
      "text/latex": [
       "\\begin{enumerate}\n",
       "\\item 1\n",
       "\\item 2\n",
       "\\item 3\n",
       "\\item 'irfan'\n",
       "\\item 'hello'\n",
       "\\item TRUE\n",
       "\\item \\begin{enumerate}\n",
       "\\item 'a'\n",
       "\\item 'b'\n",
       "\\item 'c'\n",
       "\\end{enumerate}\n",
       "\n",
       "\\end{enumerate}\n"
      ],
      "text/markdown": [
       "1. 1\n",
       "2. 2\n",
       "3. 3\n",
       "4. 'irfan'\n",
       "5. 'hello'\n",
       "6. TRUE\n",
       "7. 1. 'a'\n",
       "2. 'b'\n",
       "3. 'c'\n",
       "\n",
       "\n",
       "\n",
       "\n",
       "\n"
      ],
      "text/plain": [
       "[[1]]\n",
       "[1] 1\n",
       "\n",
       "[[2]]\n",
       "[1] 2\n",
       "\n",
       "[[3]]\n",
       "[1] 3\n",
       "\n",
       "[[4]]\n",
       "[1] \"irfan\"\n",
       "\n",
       "[[5]]\n",
       "[1] \"hello\"\n",
       "\n",
       "[[6]]\n",
       "[1] TRUE\n",
       "\n",
       "[[7]]\n",
       "[[7]][[1]]\n",
       "[1] \"a\"\n",
       "\n",
       "[[7]][[2]]\n",
       "[1] \"b\"\n",
       "\n",
       "[[7]][[3]]\n",
       "[1] \"c\"\n",
       "\n"
      ]
     },
     "metadata": {},
     "output_type": "display_data"
    },
    {
     "data": {
      "text/html": [
       "<ol>\n",
       "\t<li>1</li>\n",
       "</ol>\n"
      ],
      "text/latex": [
       "\\begin{enumerate}\n",
       "\\item 1\n",
       "\\end{enumerate}\n"
      ],
      "text/markdown": [
       "1. 1\n",
       "\n",
       "\n"
      ],
      "text/plain": [
       "[[1]]\n",
       "[1] 1\n"
      ]
     },
     "metadata": {},
     "output_type": "display_data"
    },
    {
     "data": {
      "text/html": [
       "<ol>\n",
       "\t<li><ol>\n",
       "\t<li>'a'</li>\n",
       "\t<li>'b'</li>\n",
       "\t<li>'c'</li>\n",
       "</ol>\n",
       "</li>\n",
       "</ol>\n"
      ],
      "text/latex": [
       "\\begin{enumerate}\n",
       "\\item \\begin{enumerate}\n",
       "\\item 'a'\n",
       "\\item 'b'\n",
       "\\item 'c'\n",
       "\\end{enumerate}\n",
       "\n",
       "\\end{enumerate}\n"
      ],
      "text/markdown": [
       "1. 1. 'a'\n",
       "2. 'b'\n",
       "3. 'c'\n",
       "\n",
       "\n",
       "\n",
       "\n",
       "\n"
      ],
      "text/plain": [
       "[[1]]\n",
       "[[1]][[1]]\n",
       "[1] \"a\"\n",
       "\n",
       "[[1]][[2]]\n",
       "[1] \"b\"\n",
       "\n",
       "[[1]][[3]]\n",
       "[1] \"c\"\n",
       "\n"
      ]
     },
     "metadata": {},
     "output_type": "display_data"
    },
    {
     "data": {
      "text/html": [
       "<ol>\n",
       "\t<li>'a'</li>\n",
       "\t<li>'b'</li>\n",
       "\t<li>'c'</li>\n",
       "</ol>\n"
      ],
      "text/latex": [
       "\\begin{enumerate}\n",
       "\\item 'a'\n",
       "\\item 'b'\n",
       "\\item 'c'\n",
       "\\end{enumerate}\n"
      ],
      "text/markdown": [
       "1. 'a'\n",
       "2. 'b'\n",
       "3. 'c'\n",
       "\n",
       "\n"
      ],
      "text/plain": [
       "[[1]]\n",
       "[1] \"a\"\n",
       "\n",
       "[[2]]\n",
       "[1] \"b\"\n",
       "\n",
       "[[3]]\n",
       "[1] \"c\"\n"
      ]
     },
     "metadata": {},
     "output_type": "display_data"
    }
   ],
   "source": [
    "m_list = list(1,2,3,'irfan','hello',TRUE,list('a','b','c'))\n",
    "m_list\n",
    "#R follows 1 indexing, does not start at 0\n",
    "m_list[1]\n",
    "m_list[7]\n",
    "m_list[[7]]"
   ]
  },
  {
   "cell_type": "code",
   "execution_count": 12,
   "metadata": {
    "collapsed": true
   },
   "outputs": [
    {
     "data": {
      "text/html": [
       "<dl>\n",
       "\t<dt>$a</dt>\n",
       "\t\t<dd>'Irf'</dd>\n",
       "\t<dt>$b</dt>\n",
       "\t\t<dd><ol class=list-inline>\n",
       "\t<li>1</li>\n",
       "\t<li>2</li>\n",
       "\t<li>3</li>\n",
       "\t<li>4</li>\n",
       "\t<li>5</li>\n",
       "\t<li>6</li>\n",
       "\t<li>7</li>\n",
       "\t<li>8</li>\n",
       "\t<li>9</li>\n",
       "\t<li>10</li>\n",
       "</ol>\n",
       "</dd>\n",
       "\t<dt>$c</dt>\n",
       "\t\t<dd><table>\n",
       "<caption>A data.frame: 6 × 5</caption>\n",
       "<thead>\n",
       "\t<tr><th scope=col>Sepal.Length</th><th scope=col>Sepal.Width</th><th scope=col>Petal.Length</th><th scope=col>Petal.Width</th><th scope=col>Species</th></tr>\n",
       "\t<tr><th scope=col>&lt;dbl&gt;</th><th scope=col>&lt;dbl&gt;</th><th scope=col>&lt;dbl&gt;</th><th scope=col>&lt;dbl&gt;</th><th scope=col>&lt;fct&gt;</th></tr>\n",
       "</thead>\n",
       "<tbody>\n",
       "\t<tr><td>5.1</td><td>3.5</td><td>1.4</td><td>0.2</td><td>setosa</td></tr>\n",
       "\t<tr><td>4.9</td><td>3.0</td><td>1.4</td><td>0.2</td><td>setosa</td></tr>\n",
       "\t<tr><td>4.7</td><td>3.2</td><td>1.3</td><td>0.2</td><td>setosa</td></tr>\n",
       "\t<tr><td>4.6</td><td>3.1</td><td>1.5</td><td>0.2</td><td>setosa</td></tr>\n",
       "\t<tr><td>5.0</td><td>3.6</td><td>1.4</td><td>0.2</td><td>setosa</td></tr>\n",
       "\t<tr><td>5.4</td><td>3.9</td><td>1.7</td><td>0.4</td><td>setosa</td></tr>\n",
       "</tbody>\n",
       "</table>\n",
       "</dd>\n",
       "</dl>\n"
      ],
      "text/latex": [
       "\\begin{description}\n",
       "\\item[\\$a] 'Irf'\n",
       "\\item[\\$b] \\begin{enumerate*}\n",
       "\\item 1\n",
       "\\item 2\n",
       "\\item 3\n",
       "\\item 4\n",
       "\\item 5\n",
       "\\item 6\n",
       "\\item 7\n",
       "\\item 8\n",
       "\\item 9\n",
       "\\item 10\n",
       "\\end{enumerate*}\n",
       "\n",
       "\\item[\\$c] A data.frame: 6 × 5\n",
       "\\begin{tabular}{r|lllll}\n",
       " Sepal.Length & Sepal.Width & Petal.Length & Petal.Width & Species\\\\\n",
       " <dbl> & <dbl> & <dbl> & <dbl> & <fct>\\\\\n",
       "\\hline\n",
       "\t 5.1 & 3.5 & 1.4 & 0.2 & setosa\\\\\n",
       "\t 4.9 & 3.0 & 1.4 & 0.2 & setosa\\\\\n",
       "\t 4.7 & 3.2 & 1.3 & 0.2 & setosa\\\\\n",
       "\t 4.6 & 3.1 & 1.5 & 0.2 & setosa\\\\\n",
       "\t 5.0 & 3.6 & 1.4 & 0.2 & setosa\\\\\n",
       "\t 5.4 & 3.9 & 1.7 & 0.4 & setosa\\\\\n",
       "\\end{tabular}\n",
       "\n",
       "\\end{description}\n"
      ],
      "text/markdown": [
       "$a\n",
       ":   'Irf'\n",
       "$b\n",
       ":   1. 1\n",
       "2. 2\n",
       "3. 3\n",
       "4. 4\n",
       "5. 5\n",
       "6. 6\n",
       "7. 7\n",
       "8. 8\n",
       "9. 9\n",
       "10. 10\n",
       "\n",
       "\n",
       "\n",
       "$c\n",
       ":   \n",
       "A data.frame: 6 × 5\n",
       "\n",
       "| Sepal.Length &lt;dbl&gt; | Sepal.Width &lt;dbl&gt; | Petal.Length &lt;dbl&gt; | Petal.Width &lt;dbl&gt; | Species &lt;fct&gt; |\n",
       "|---|---|---|---|---|\n",
       "| 5.1 | 3.5 | 1.4 | 0.2 | setosa |\n",
       "| 4.9 | 3.0 | 1.4 | 0.2 | setosa |\n",
       "| 4.7 | 3.2 | 1.3 | 0.2 | setosa |\n",
       "| 4.6 | 3.1 | 1.5 | 0.2 | setosa |\n",
       "| 5.0 | 3.6 | 1.4 | 0.2 | setosa |\n",
       "| 5.4 | 3.9 | 1.7 | 0.4 | setosa |\n",
       "\n",
       "\n",
       "\n",
       "\n"
      ],
      "text/plain": [
       "$a\n",
       "[1] \"Irf\"\n",
       "\n",
       "$b\n",
       " [1]  1  2  3  4  5  6  7  8  9 10\n",
       "\n",
       "$c\n",
       "  Sepal.Length Sepal.Width Petal.Length Petal.Width Species\n",
       "1          5.1         3.5          1.4         0.2  setosa\n",
       "2          4.9         3.0          1.4         0.2  setosa\n",
       "3          4.7         3.2          1.3         0.2  setosa\n",
       "4          4.6         3.1          1.5         0.2  setosa\n",
       "5          5.0         3.6          1.4         0.2  setosa\n",
       "6          5.4         3.9          1.7         0.4  setosa\n"
      ]
     },
     "metadata": {},
     "output_type": "display_data"
    }
   ],
   "source": [
    "x_list = list(a=\"Irf\",b=1:10,c=head(iris))\n",
    "x_list"
   ]
  },
  {
   "cell_type": "code",
   "execution_count": 13,
   "metadata": {
    "collapsed": true
   },
   "outputs": [
    {
     "data": {
      "text/html": [
       "<table>\n",
       "<caption>A data.frame: 10 × 3</caption>\n",
       "<thead>\n",
       "\t<tr><th scope=col>id</th><th scope=col>x</th><th scope=col>y</th></tr>\n",
       "\t<tr><th scope=col>&lt;fct&gt;</th><th scope=col>&lt;int&gt;</th><th scope=col>&lt;int&gt;</th></tr>\n",
       "</thead>\n",
       "<tbody>\n",
       "\t<tr><td>a</td><td> 1</td><td>11</td></tr>\n",
       "\t<tr><td>b</td><td> 2</td><td>12</td></tr>\n",
       "\t<tr><td>c</td><td> 3</td><td>13</td></tr>\n",
       "\t<tr><td>d</td><td> 4</td><td>14</td></tr>\n",
       "\t<tr><td>e</td><td> 5</td><td>15</td></tr>\n",
       "\t<tr><td>f</td><td> 6</td><td>16</td></tr>\n",
       "\t<tr><td>g</td><td> 7</td><td>17</td></tr>\n",
       "\t<tr><td>h</td><td> 8</td><td>18</td></tr>\n",
       "\t<tr><td>i</td><td> 9</td><td>19</td></tr>\n",
       "\t<tr><td>j</td><td>10</td><td>20</td></tr>\n",
       "</tbody>\n",
       "</table>\n"
      ],
      "text/latex": [
       "A data.frame: 10 × 3\n",
       "\\begin{tabular}{r|lll}\n",
       " id & x & y\\\\\n",
       " <fct> & <int> & <int>\\\\\n",
       "\\hline\n",
       "\t a &  1 & 11\\\\\n",
       "\t b &  2 & 12\\\\\n",
       "\t c &  3 & 13\\\\\n",
       "\t d &  4 & 14\\\\\n",
       "\t e &  5 & 15\\\\\n",
       "\t f &  6 & 16\\\\\n",
       "\t g &  7 & 17\\\\\n",
       "\t h &  8 & 18\\\\\n",
       "\t i &  9 & 19\\\\\n",
       "\t j & 10 & 20\\\\\n",
       "\\end{tabular}\n"
      ],
      "text/markdown": [
       "\n",
       "A data.frame: 10 × 3\n",
       "\n",
       "| id &lt;fct&gt; | x &lt;int&gt; | y &lt;int&gt; |\n",
       "|---|---|---|\n",
       "| a |  1 | 11 |\n",
       "| b |  2 | 12 |\n",
       "| c |  3 | 13 |\n",
       "| d |  4 | 14 |\n",
       "| e |  5 | 15 |\n",
       "| f |  6 | 16 |\n",
       "| g |  7 | 17 |\n",
       "| h |  8 | 18 |\n",
       "| i |  9 | 19 |\n",
       "| j | 10 | 20 |\n",
       "\n"
      ],
      "text/plain": [
       "   id x  y \n",
       "1  a   1 11\n",
       "2  b   2 12\n",
       "3  c   3 13\n",
       "4  d   4 14\n",
       "5  e   5 15\n",
       "6  f   6 16\n",
       "7  g   7 17\n",
       "8  h   8 18\n",
       "9  i   9 19\n",
       "10 j  10 20"
      ]
     },
     "metadata": {},
     "output_type": "display_data"
    },
    {
     "data": {
      "text/html": [
       "<ol class=list-inline>\n",
       "\t<li>a</li>\n",
       "\t<li>b</li>\n",
       "\t<li>c</li>\n",
       "\t<li>d</li>\n",
       "\t<li>e</li>\n",
       "\t<li>f</li>\n",
       "\t<li>g</li>\n",
       "\t<li>h</li>\n",
       "\t<li>i</li>\n",
       "\t<li>j</li>\n",
       "</ol>\n",
       "\n",
       "<details>\n",
       "\t<summary style=display:list-item;cursor:pointer>\n",
       "\t\t<strong>Levels</strong>:\n",
       "\t</summary>\n",
       "\t<ol class=list-inline>\n",
       "\t\t<li>'a'</li>\n",
       "\t\t<li>'b'</li>\n",
       "\t\t<li>'c'</li>\n",
       "\t\t<li>'d'</li>\n",
       "\t\t<li>'e'</li>\n",
       "\t\t<li>'f'</li>\n",
       "\t\t<li>'g'</li>\n",
       "\t\t<li>'h'</li>\n",
       "\t\t<li>'i'</li>\n",
       "\t\t<li>'j'</li>\n",
       "\t</ol>\n",
       "</details>"
      ],
      "text/latex": [
       "\\begin{enumerate*}\n",
       "\\item a\n",
       "\\item b\n",
       "\\item c\n",
       "\\item d\n",
       "\\item e\n",
       "\\item f\n",
       "\\item g\n",
       "\\item h\n",
       "\\item i\n",
       "\\item j\n",
       "\\end{enumerate*}\n",
       "\n",
       "\\emph{Levels}: \\begin{enumerate*}\n",
       "\\item 'a'\n",
       "\\item 'b'\n",
       "\\item 'c'\n",
       "\\item 'd'\n",
       "\\item 'e'\n",
       "\\item 'f'\n",
       "\\item 'g'\n",
       "\\item 'h'\n",
       "\\item 'i'\n",
       "\\item 'j'\n",
       "\\end{enumerate*}\n"
      ],
      "text/markdown": [
       "1. a\n",
       "2. b\n",
       "3. c\n",
       "4. d\n",
       "5. e\n",
       "6. f\n",
       "7. g\n",
       "8. h\n",
       "9. i\n",
       "10. j\n",
       "\n",
       "\n",
       "\n",
       "**Levels**: 1. 'a'\n",
       "2. 'b'\n",
       "3. 'c'\n",
       "4. 'd'\n",
       "5. 'e'\n",
       "6. 'f'\n",
       "7. 'g'\n",
       "8. 'h'\n",
       "9. 'i'\n",
       "10. 'j'\n",
       "\n",
       "\n"
      ],
      "text/plain": [
       " [1] a b c d e f g h i j\n",
       "Levels: a b c d e f g h i j"
      ]
     },
     "metadata": {},
     "output_type": "display_data"
    }
   ],
   "source": [
    "dat <- data.frame(id=letters[1:10] , x=1:10,y=11:20)\n",
    "dat\n",
    "dat[['id']]"
   ]
  },
  {
   "cell_type": "code",
   "execution_count": 53,
   "metadata": {},
   "outputs": [
    {
     "data": {
      "text/html": [
       "<table>\n",
       "<caption>A data.frame: 6 × 12</caption>\n",
       "<thead>\n",
       "\t<tr><th scope=col>PassengerId</th><th scope=col>Survived</th><th scope=col>Pclass</th><th scope=col>Name</th><th scope=col>Sex</th><th scope=col>Age</th><th scope=col>SibSp</th><th scope=col>Parch</th><th scope=col>Ticket</th><th scope=col>Fare</th><th scope=col>Cabin</th><th scope=col>Embarked</th></tr>\n",
       "\t<tr><th scope=col>&lt;int&gt;</th><th scope=col>&lt;int&gt;</th><th scope=col>&lt;int&gt;</th><th scope=col>&lt;fct&gt;</th><th scope=col>&lt;fct&gt;</th><th scope=col>&lt;dbl&gt;</th><th scope=col>&lt;int&gt;</th><th scope=col>&lt;int&gt;</th><th scope=col>&lt;fct&gt;</th><th scope=col>&lt;dbl&gt;</th><th scope=col>&lt;fct&gt;</th><th scope=col>&lt;fct&gt;</th></tr>\n",
       "</thead>\n",
       "<tbody>\n",
       "\t<tr><td>1</td><td>0</td><td>3</td><td>Braund, Mr. Owen Harris                            </td><td>male  </td><td>22</td><td>1</td><td>0</td><td>A/5 21171       </td><td> 7.2500</td><td>    </td><td>S</td></tr>\n",
       "\t<tr><td>2</td><td>1</td><td>1</td><td>Cumings, Mrs. John Bradley (Florence Briggs Thayer)</td><td>female</td><td>38</td><td>1</td><td>0</td><td>PC 17599        </td><td>71.2833</td><td>C85 </td><td>C</td></tr>\n",
       "\t<tr><td>3</td><td>1</td><td>3</td><td>Heikkinen, Miss. Laina                             </td><td>female</td><td>26</td><td>0</td><td>0</td><td>STON/O2. 3101282</td><td> 7.9250</td><td>    </td><td>S</td></tr>\n",
       "\t<tr><td>4</td><td>1</td><td>1</td><td>Futrelle, Mrs. Jacques Heath (Lily May Peel)       </td><td>female</td><td>35</td><td>1</td><td>0</td><td>113803          </td><td>53.1000</td><td>C123</td><td>S</td></tr>\n",
       "\t<tr><td>5</td><td>0</td><td>3</td><td>Allen, Mr. William Henry                           </td><td>male  </td><td>35</td><td>0</td><td>0</td><td>373450          </td><td> 8.0500</td><td>    </td><td>S</td></tr>\n",
       "\t<tr><td>6</td><td>0</td><td>3</td><td>Moran, Mr. James                                   </td><td>male  </td><td>NA</td><td>0</td><td>0</td><td>330877          </td><td> 8.4583</td><td>    </td><td>Q</td></tr>\n",
       "</tbody>\n",
       "</table>\n"
      ],
      "text/latex": [
       "A data.frame: 6 × 12\n",
       "\\begin{tabular}{r|llllllllllll}\n",
       " PassengerId & Survived & Pclass & Name & Sex & Age & SibSp & Parch & Ticket & Fare & Cabin & Embarked\\\\\n",
       " <int> & <int> & <int> & <fct> & <fct> & <dbl> & <int> & <int> & <fct> & <dbl> & <fct> & <fct>\\\\\n",
       "\\hline\n",
       "\t 1 & 0 & 3 & Braund, Mr. Owen Harris                             & male   & 22 & 1 & 0 & A/5 21171        &  7.2500 &      & S\\\\\n",
       "\t 2 & 1 & 1 & Cumings, Mrs. John Bradley (Florence Briggs Thayer) & female & 38 & 1 & 0 & PC 17599         & 71.2833 & C85  & C\\\\\n",
       "\t 3 & 1 & 3 & Heikkinen, Miss. Laina                              & female & 26 & 0 & 0 & STON/O2. 3101282 &  7.9250 &      & S\\\\\n",
       "\t 4 & 1 & 1 & Futrelle, Mrs. Jacques Heath (Lily May Peel)        & female & 35 & 1 & 0 & 113803           & 53.1000 & C123 & S\\\\\n",
       "\t 5 & 0 & 3 & Allen, Mr. William Henry                            & male   & 35 & 0 & 0 & 373450           &  8.0500 &      & S\\\\\n",
       "\t 6 & 0 & 3 & Moran, Mr. James                                    & male   & NA & 0 & 0 & 330877           &  8.4583 &      & Q\\\\\n",
       "\\end{tabular}\n"
      ],
      "text/markdown": [
       "\n",
       "A data.frame: 6 × 12\n",
       "\n",
       "| PassengerId &lt;int&gt; | Survived &lt;int&gt; | Pclass &lt;int&gt; | Name &lt;fct&gt; | Sex &lt;fct&gt; | Age &lt;dbl&gt; | SibSp &lt;int&gt; | Parch &lt;int&gt; | Ticket &lt;fct&gt; | Fare &lt;dbl&gt; | Cabin &lt;fct&gt; | Embarked &lt;fct&gt; |\n",
       "|---|---|---|---|---|---|---|---|---|---|---|---|\n",
       "| 1 | 0 | 3 | Braund, Mr. Owen Harris                             | male   | 22 | 1 | 0 | A/5 21171        |  7.2500 | <!----> | S |\n",
       "| 2 | 1 | 1 | Cumings, Mrs. John Bradley (Florence Briggs Thayer) | female | 38 | 1 | 0 | PC 17599         | 71.2833 | C85  | C |\n",
       "| 3 | 1 | 3 | Heikkinen, Miss. Laina                              | female | 26 | 0 | 0 | STON/O2. 3101282 |  7.9250 | <!----> | S |\n",
       "| 4 | 1 | 1 | Futrelle, Mrs. Jacques Heath (Lily May Peel)        | female | 35 | 1 | 0 | 113803           | 53.1000 | C123 | S |\n",
       "| 5 | 0 | 3 | Allen, Mr. William Henry                            | male   | 35 | 0 | 0 | 373450           |  8.0500 | <!----> | S |\n",
       "| 6 | 0 | 3 | Moran, Mr. James                                    | male   | NA | 0 | 0 | 330877           |  8.4583 | <!----> | Q |\n",
       "\n"
      ],
      "text/plain": [
       "  PassengerId Survived Pclass\n",
       "1 1           0        3     \n",
       "2 2           1        1     \n",
       "3 3           1        3     \n",
       "4 4           1        1     \n",
       "5 5           0        3     \n",
       "6 6           0        3     \n",
       "  Name                                                Sex    Age SibSp Parch\n",
       "1 Braund, Mr. Owen Harris                             male   22  1     0    \n",
       "2 Cumings, Mrs. John Bradley (Florence Briggs Thayer) female 38  1     0    \n",
       "3 Heikkinen, Miss. Laina                              female 26  0     0    \n",
       "4 Futrelle, Mrs. Jacques Heath (Lily May Peel)        female 35  1     0    \n",
       "5 Allen, Mr. William Henry                            male   35  0     0    \n",
       "6 Moran, Mr. James                                    male   NA  0     0    \n",
       "  Ticket           Fare    Cabin Embarked\n",
       "1 A/5 21171         7.2500       S       \n",
       "2 PC 17599         71.2833 C85   C       \n",
       "3 STON/O2. 3101282  7.9250       S       \n",
       "4 113803           53.1000 C123  S       \n",
       "5 373450            8.0500       S       \n",
       "6 330877            8.4583       Q       "
      ]
     },
     "metadata": {},
     "output_type": "display_data"
    }
   ],
   "source": [
    "my_data <- read.csv('train.csv')\n",
    "head(my_data)"
   ]
  },
  {
   "cell_type": "code",
   "execution_count": 54,
   "metadata": {},
   "outputs": [
    {
     "data": {
      "text/html": [
       "<ol class=list-inline>\n",
       "\t<li>891</li>\n",
       "\t<li>12</li>\n",
       "</ol>\n"
      ],
      "text/latex": [
       "\\begin{enumerate*}\n",
       "\\item 891\n",
       "\\item 12\n",
       "\\end{enumerate*}\n"
      ],
      "text/markdown": [
       "1. 891\n",
       "2. 12\n",
       "\n",
       "\n"
      ],
      "text/plain": [
       "[1] 891  12"
      ]
     },
     "metadata": {},
     "output_type": "display_data"
    },
    {
     "data": {
      "text/plain": [
       "  PassengerId       Survived          Pclass     \n",
       " Min.   :  1.0   Min.   :0.0000   Min.   :1.000  \n",
       " 1st Qu.:223.5   1st Qu.:0.0000   1st Qu.:2.000  \n",
       " Median :446.0   Median :0.0000   Median :3.000  \n",
       " Mean   :446.0   Mean   :0.3838   Mean   :2.309  \n",
       " 3rd Qu.:668.5   3rd Qu.:1.0000   3rd Qu.:3.000  \n",
       " Max.   :891.0   Max.   :1.0000   Max.   :3.000  \n",
       "                                                 \n",
       "                                    Name         Sex           Age       \n",
       " Abbing, Mr. Anthony                  :  1   female:314   Min.   : 0.42  \n",
       " Abbott, Mr. Rossmore Edward          :  1   male  :577   1st Qu.:20.12  \n",
       " Abbott, Mrs. Stanton (Rosa Hunt)     :  1                Median :28.00  \n",
       " Abelson, Mr. Samuel                  :  1                Mean   :29.70  \n",
       " Abelson, Mrs. Samuel (Hannah Wizosky):  1                3rd Qu.:38.00  \n",
       " Adahl, Mr. Mauritz Nils Martin       :  1                Max.   :80.00  \n",
       " (Other)                              :885                NA's   :177    \n",
       "     SibSp           Parch             Ticket         Fare       \n",
       " Min.   :0.000   Min.   :0.0000   1601    :  7   Min.   :  0.00  \n",
       " 1st Qu.:0.000   1st Qu.:0.0000   347082  :  7   1st Qu.:  7.91  \n",
       " Median :0.000   Median :0.0000   CA. 2343:  7   Median : 14.45  \n",
       " Mean   :0.523   Mean   :0.3816   3101295 :  6   Mean   : 32.20  \n",
       " 3rd Qu.:1.000   3rd Qu.:0.0000   347088  :  6   3rd Qu.: 31.00  \n",
       " Max.   :8.000   Max.   :6.0000   CA 2144 :  6   Max.   :512.33  \n",
       "                                  (Other) :852                   \n",
       "         Cabin     Embarked\n",
       "            :687    :  2   \n",
       " B96 B98    :  4   C:168   \n",
       " C23 C25 C27:  4   Q: 77   \n",
       " G6         :  4   S:644   \n",
       " C22 C26    :  3           \n",
       " D          :  3           \n",
       " (Other)    :186           "
      ]
     },
     "metadata": {},
     "output_type": "display_data"
    }
   ],
   "source": [
    "dim(my_data);\n",
    "\n",
    "summary(my_data);"
   ]
  },
  {
   "cell_type": "code",
   "execution_count": 16,
   "metadata": {},
   "outputs": [],
   "source": [
    "tail_my_data <- tail(my_data)"
   ]
  },
  {
   "cell_type": "code",
   "execution_count": 17,
   "metadata": {
    "collapsed": true
   },
   "outputs": [
    {
     "data": {
      "text/html": [
       "<table>\n",
       "<caption>A data.frame: 6 × 12</caption>\n",
       "<thead>\n",
       "\t<tr><th></th><th scope=col>PassengerId</th><th scope=col>Survived</th><th scope=col>Pclass</th><th scope=col>Name</th><th scope=col>Sex</th><th scope=col>Age</th><th scope=col>SibSp</th><th scope=col>Parch</th><th scope=col>Ticket</th><th scope=col>Fare</th><th scope=col>Cabin</th><th scope=col>Embarked</th></tr>\n",
       "\t<tr><th></th><th scope=col>&lt;int&gt;</th><th scope=col>&lt;int&gt;</th><th scope=col>&lt;int&gt;</th><th scope=col>&lt;fct&gt;</th><th scope=col>&lt;fct&gt;</th><th scope=col>&lt;dbl&gt;</th><th scope=col>&lt;int&gt;</th><th scope=col>&lt;int&gt;</th><th scope=col>&lt;fct&gt;</th><th scope=col>&lt;dbl&gt;</th><th scope=col>&lt;fct&gt;</th><th scope=col>&lt;fct&gt;</th></tr>\n",
       "</thead>\n",
       "<tbody>\n",
       "\t<tr><th scope=row>886</th><td>886</td><td>0</td><td>3</td><td>Rice, Mrs. William (Margaret Norton)    </td><td>female</td><td>39</td><td>0</td><td>5</td><td>382652    </td><td>29.125</td><td>    </td><td>Q</td></tr>\n",
       "\t<tr><th scope=row>887</th><td>887</td><td>0</td><td>2</td><td>Montvila, Rev. Juozas                   </td><td>male  </td><td>27</td><td>0</td><td>0</td><td>211536    </td><td>13.000</td><td>    </td><td>S</td></tr>\n",
       "\t<tr><th scope=row>888</th><td>888</td><td>1</td><td>1</td><td>Graham, Miss. Margaret Edith            </td><td>female</td><td>19</td><td>0</td><td>0</td><td>112053    </td><td>30.000</td><td>B42 </td><td>S</td></tr>\n",
       "\t<tr><th scope=row>889</th><td>889</td><td>0</td><td>3</td><td>Johnston, Miss. Catherine Helen \"Carrie\"</td><td>female</td><td>NA</td><td>1</td><td>2</td><td>W./C. 6607</td><td>23.450</td><td>    </td><td>S</td></tr>\n",
       "\t<tr><th scope=row>890</th><td>890</td><td>1</td><td>1</td><td>Behr, Mr. Karl Howell                   </td><td>male  </td><td>26</td><td>0</td><td>0</td><td>111369    </td><td>30.000</td><td>C148</td><td>C</td></tr>\n",
       "\t<tr><th scope=row>891</th><td>891</td><td>0</td><td>3</td><td>Dooley, Mr. Patrick                     </td><td>male  </td><td>32</td><td>0</td><td>0</td><td>370376    </td><td> 7.750</td><td>    </td><td>Q</td></tr>\n",
       "</tbody>\n",
       "</table>\n"
      ],
      "text/latex": [
       "A data.frame: 6 × 12\n",
       "\\begin{tabular}{r|llllllllllll}\n",
       "  & PassengerId & Survived & Pclass & Name & Sex & Age & SibSp & Parch & Ticket & Fare & Cabin & Embarked\\\\\n",
       "  & <int> & <int> & <int> & <fct> & <fct> & <dbl> & <int> & <int> & <fct> & <dbl> & <fct> & <fct>\\\\\n",
       "\\hline\n",
       "\t886 & 886 & 0 & 3 & Rice, Mrs. William (Margaret Norton)     & female & 39 & 0 & 5 & 382652     & 29.125 &      & Q\\\\\n",
       "\t887 & 887 & 0 & 2 & Montvila, Rev. Juozas                    & male   & 27 & 0 & 0 & 211536     & 13.000 &      & S\\\\\n",
       "\t888 & 888 & 1 & 1 & Graham, Miss. Margaret Edith             & female & 19 & 0 & 0 & 112053     & 30.000 & B42  & S\\\\\n",
       "\t889 & 889 & 0 & 3 & Johnston, Miss. Catherine Helen \"Carrie\" & female & NA & 1 & 2 & W./C. 6607 & 23.450 &      & S\\\\\n",
       "\t890 & 890 & 1 & 1 & Behr, Mr. Karl Howell                    & male   & 26 & 0 & 0 & 111369     & 30.000 & C148 & C\\\\\n",
       "\t891 & 891 & 0 & 3 & Dooley, Mr. Patrick                      & male   & 32 & 0 & 0 & 370376     &  7.750 &      & Q\\\\\n",
       "\\end{tabular}\n"
      ],
      "text/markdown": [
       "\n",
       "A data.frame: 6 × 12\n",
       "\n",
       "| <!--/--> | PassengerId &lt;int&gt; | Survived &lt;int&gt; | Pclass &lt;int&gt; | Name &lt;fct&gt; | Sex &lt;fct&gt; | Age &lt;dbl&gt; | SibSp &lt;int&gt; | Parch &lt;int&gt; | Ticket &lt;fct&gt; | Fare &lt;dbl&gt; | Cabin &lt;fct&gt; | Embarked &lt;fct&gt; |\n",
       "|---|---|---|---|---|---|---|---|---|---|---|---|---|\n",
       "| 886 | 886 | 0 | 3 | Rice, Mrs. William (Margaret Norton)     | female | 39 | 0 | 5 | 382652     | 29.125 | <!----> | Q |\n",
       "| 887 | 887 | 0 | 2 | Montvila, Rev. Juozas                    | male   | 27 | 0 | 0 | 211536     | 13.000 | <!----> | S |\n",
       "| 888 | 888 | 1 | 1 | Graham, Miss. Margaret Edith             | female | 19 | 0 | 0 | 112053     | 30.000 | B42  | S |\n",
       "| 889 | 889 | 0 | 3 | Johnston, Miss. Catherine Helen \"Carrie\" | female | NA | 1 | 2 | W./C. 6607 | 23.450 | <!----> | S |\n",
       "| 890 | 890 | 1 | 1 | Behr, Mr. Karl Howell                    | male   | 26 | 0 | 0 | 111369     | 30.000 | C148 | C |\n",
       "| 891 | 891 | 0 | 3 | Dooley, Mr. Patrick                      | male   | 32 | 0 | 0 | 370376     |  7.750 | <!----> | Q |\n",
       "\n"
      ],
      "text/plain": [
       "    PassengerId Survived Pclass Name                                     Sex   \n",
       "886 886         0        3      Rice, Mrs. William (Margaret Norton)     female\n",
       "887 887         0        2      Montvila, Rev. Juozas                    male  \n",
       "888 888         1        1      Graham, Miss. Margaret Edith             female\n",
       "889 889         0        3      Johnston, Miss. Catherine Helen \"Carrie\" female\n",
       "890 890         1        1      Behr, Mr. Karl Howell                    male  \n",
       "891 891         0        3      Dooley, Mr. Patrick                      male  \n",
       "    Age SibSp Parch Ticket     Fare   Cabin Embarked\n",
       "886 39  0     5     382652     29.125       Q       \n",
       "887 27  0     0     211536     13.000       S       \n",
       "888 19  0     0     112053     30.000 B42   S       \n",
       "889 NA  1     2     W./C. 6607 23.450       S       \n",
       "890 26  0     0     111369     30.000 C148  C       \n",
       "891 32  0     0     370376      7.750       Q       "
      ]
     },
     "metadata": {},
     "output_type": "display_data"
    }
   ],
   "source": [
    "tail_my_data"
   ]
  },
  {
   "cell_type": "code",
   "execution_count": 18,
   "metadata": {},
   "outputs": [],
   "source": [
    "#Writing to csv.\n",
    "write.csv(tail_my_data,'train_tail.csv')"
   ]
  },
  {
   "cell_type": "code",
   "execution_count": 19,
   "metadata": {
    "collapsed": true
   },
   "outputs": [
    {
     "data": {
      "text/html": [
       "<strong>$foo</strong> = <ol class=list-inline>\n",
       "\t<li>1</li>\n",
       "\t<li>2</li>\n",
       "\t<li>3</li>\n",
       "\t<li>4</li>\n",
       "</ol>\n"
      ],
      "text/latex": [
       "\\textbf{\\$foo} = \\begin{enumerate*}\n",
       "\\item 1\n",
       "\\item 2\n",
       "\\item 3\n",
       "\\item 4\n",
       "\\end{enumerate*}\n"
      ],
      "text/markdown": [
       "**$foo** = 1. 1\n",
       "2. 2\n",
       "3. 3\n",
       "4. 4\n",
       "\n",
       "\n"
      ],
      "text/plain": [
       "$foo\n",
       "[1] 1 2 3 4\n"
      ]
     },
     "metadata": {},
     "output_type": "display_data"
    },
    {
     "data": {
      "text/html": [
       "'----'"
      ],
      "text/latex": [
       "'----'"
      ],
      "text/markdown": [
       "'----'"
      ],
      "text/plain": [
       "[1] \"----\""
      ]
     },
     "metadata": {},
     "output_type": "display_data"
    },
    {
     "data": {
      "text/html": [
       "<ol class=list-inline>\n",
       "\t<li>1</li>\n",
       "\t<li>2</li>\n",
       "\t<li>3</li>\n",
       "\t<li>4</li>\n",
       "</ol>\n"
      ],
      "text/latex": [
       "\\begin{enumerate*}\n",
       "\\item 1\n",
       "\\item 2\n",
       "\\item 3\n",
       "\\item 4\n",
       "\\end{enumerate*}\n"
      ],
      "text/markdown": [
       "1. 1\n",
       "2. 2\n",
       "3. 3\n",
       "4. 4\n",
       "\n",
       "\n"
      ],
      "text/plain": [
       "[1] 1 2 3 4"
      ]
     },
     "metadata": {},
     "output_type": "display_data"
    },
    {
     "data": {
      "text/html": [
       "'----'"
      ],
      "text/latex": [
       "'----'"
      ],
      "text/markdown": [
       "'----'"
      ],
      "text/plain": [
       "[1] \"----\""
      ]
     },
     "metadata": {},
     "output_type": "display_data"
    },
    {
     "data": {
      "text/html": [
       "0.6"
      ],
      "text/latex": [
       "0.6"
      ],
      "text/markdown": [
       "0.6"
      ],
      "text/plain": [
       "[1] 0.6"
      ]
     },
     "metadata": {},
     "output_type": "display_data"
    },
    {
     "data": {
      "text/html": [
       "0.6"
      ],
      "text/latex": [
       "0.6"
      ],
      "text/markdown": [
       "0.6"
      ],
      "text/plain": [
       "[1] 0.6"
      ]
     },
     "metadata": {},
     "output_type": "display_data"
    },
    {
     "data": {
      "text/html": [
       "'----'"
      ],
      "text/latex": [
       "'----'"
      ],
      "text/markdown": [
       "'----'"
      ],
      "text/plain": [
       "[1] \"----\""
      ]
     },
     "metadata": {},
     "output_type": "display_data"
    },
    {
     "data": {
      "text/html": [
       "<strong>$bar</strong> = 0.6"
      ],
      "text/latex": [
       "\\textbf{\\$bar} = 0.6"
      ],
      "text/markdown": [
       "**$bar** = 0.6"
      ],
      "text/plain": [
       "$bar\n",
       "[1] 0.6\n"
      ]
     },
     "metadata": {},
     "output_type": "display_data"
    },
    {
     "data": {
      "text/html": [
       "'----'"
      ],
      "text/latex": [
       "'----'"
      ],
      "text/markdown": [
       "'----'"
      ],
      "text/plain": [
       "[1] \"----\""
      ]
     },
     "metadata": {},
     "output_type": "display_data"
    },
    {
     "data": {
      "text/html": [
       "<dl>\n",
       "\t<dt>$foo</dt>\n",
       "\t\t<dd><ol class=list-inline>\n",
       "\t<li>1</li>\n",
       "\t<li>2</li>\n",
       "\t<li>3</li>\n",
       "\t<li>4</li>\n",
       "</ol>\n",
       "</dd>\n",
       "\t<dt>$bar</dt>\n",
       "\t\t<dd>0.6</dd>\n",
       "</dl>\n"
      ],
      "text/latex": [
       "\\begin{description}\n",
       "\\item[\\$foo] \\begin{enumerate*}\n",
       "\\item 1\n",
       "\\item 2\n",
       "\\item 3\n",
       "\\item 4\n",
       "\\end{enumerate*}\n",
       "\n",
       "\\item[\\$bar] 0.6\n",
       "\\end{description}\n"
      ],
      "text/markdown": [
       "$foo\n",
       ":   1. 1\n",
       "2. 2\n",
       "3. 3\n",
       "4. 4\n",
       "\n",
       "\n",
       "\n",
       "$bar\n",
       ":   0.6\n",
       "\n",
       "\n"
      ],
      "text/plain": [
       "$foo\n",
       "[1] 1 2 3 4\n",
       "\n",
       "$bar\n",
       "[1] 0.6\n"
      ]
     },
     "metadata": {},
     "output_type": "display_data"
    },
    {
     "data": {
      "text/html": [
       "'----'"
      ],
      "text/latex": [
       "'----'"
      ],
      "text/markdown": [
       "'----'"
      ],
      "text/plain": [
       "[1] \"----\""
      ]
     },
     "metadata": {},
     "output_type": "display_data"
    },
    {
     "data": {
      "text/html": [
       "<strong>$foo</strong> = <ol class=list-inline>\n",
       "\t<li>1</li>\n",
       "\t<li>2</li>\n",
       "\t<li>3</li>\n",
       "\t<li>4</li>\n",
       "</ol>\n"
      ],
      "text/latex": [
       "\\textbf{\\$foo} = \\begin{enumerate*}\n",
       "\\item 1\n",
       "\\item 2\n",
       "\\item 3\n",
       "\\item 4\n",
       "\\end{enumerate*}\n"
      ],
      "text/markdown": [
       "**$foo** = 1. 1\n",
       "2. 2\n",
       "3. 3\n",
       "4. 4\n",
       "\n",
       "\n"
      ],
      "text/plain": [
       "$foo\n",
       "[1] 1 2 3 4\n"
      ]
     },
     "metadata": {},
     "output_type": "display_data"
    },
    {
     "data": {
      "text/plain": [
       "NULL"
      ]
     },
     "metadata": {},
     "output_type": "display_data"
    }
   ],
   "source": [
    "x <- list(foo=1:4,bar=0.6);\n",
    "\n",
    "#Prints variable and its data\n",
    "x[1]\n",
    "\"----\"\n",
    "\n",
    "#Prints data inside the variable\n",
    "x[[1]]\n",
    "\"----\"\n",
    "\n",
    "#Prints data inside the specified variable\n",
    "x$bar\n",
    "x[['bar']]\n",
    "\"----\"\n",
    "\n",
    "#Prints variable name and its data\n",
    "x['bar']\n",
    "\"----\"\n",
    "\n",
    "#Prints the first and second variable along with data inside it. c(index,index...)\n",
    "x[c(1,2)]\n",
    "'----'\n",
    "\n",
    "#Assigning variable name to another object and accessing x from there.\n",
    "name<-'foo'\n",
    "x[name]\n",
    "\n",
    "#Does not work, as name is a different object itself.\n",
    "x$name"
   ]
  },
  {
   "cell_type": "code",
   "execution_count": 20,
   "metadata": {
    "collapsed": true
   },
   "outputs": [
    {
     "data": {
      "text/html": [
       "<dl>\n",
       "\t<dt>$a</dt>\n",
       "\t\t<dd><ol>\n",
       "\t<li>10</li>\n",
       "\t<li>12</li>\n",
       "\t<li>14</li>\n",
       "</ol>\n",
       "</dd>\n",
       "\t<dt>$b</dt>\n",
       "\t\t<dd><ol class=list-inline>\n",
       "\t<li>3.14</li>\n",
       "\t<li>0.07</li>\n",
       "</ol>\n",
       "</dd>\n",
       "</dl>\n"
      ],
      "text/latex": [
       "\\begin{description}\n",
       "\\item[\\$a] \\begin{enumerate}\n",
       "\\item 10\n",
       "\\item 12\n",
       "\\item 14\n",
       "\\end{enumerate}\n",
       "\n",
       "\\item[\\$b] \\begin{enumerate*}\n",
       "\\item 3.14\n",
       "\\item 0.07\n",
       "\\end{enumerate*}\n",
       "\n",
       "\\end{description}\n"
      ],
      "text/markdown": [
       "$a\n",
       ":   1. 10\n",
       "2. 12\n",
       "3. 14\n",
       "\n",
       "\n",
       "\n",
       "$b\n",
       ":   1. 3.14\n",
       "2. 0.07\n",
       "\n",
       "\n",
       "\n",
       "\n",
       "\n"
      ],
      "text/plain": [
       "$a\n",
       "$a[[1]]\n",
       "[1] 10\n",
       "\n",
       "$a[[2]]\n",
       "[1] 12\n",
       "\n",
       "$a[[3]]\n",
       "[1] 14\n",
       "\n",
       "\n",
       "$b\n",
       "[1] 3.14 0.07\n"
      ]
     },
     "metadata": {},
     "output_type": "display_data"
    },
    {
     "data": {
      "text/html": [
       "'--------------------------------------------------'"
      ],
      "text/latex": [
       "'--------------------------------------------------'"
      ],
      "text/markdown": [
       "'--------------------------------------------------'"
      ],
      "text/plain": [
       "[1] \"--------------------------------------------------\""
      ]
     },
     "metadata": {},
     "output_type": "display_data"
    },
    {
     "data": {
      "text/html": [
       "<ol>\n",
       "\t<li>14</li>\n",
       "</ol>\n"
      ],
      "text/latex": [
       "\\begin{enumerate}\n",
       "\\item 14\n",
       "\\end{enumerate}\n"
      ],
      "text/markdown": [
       "1. 14\n",
       "\n",
       "\n"
      ],
      "text/plain": [
       "[[1]]\n",
       "[1] 14\n"
      ]
     },
     "metadata": {},
     "output_type": "display_data"
    },
    {
     "data": {
      "text/html": [
       "14"
      ],
      "text/latex": [
       "14"
      ],
      "text/markdown": [
       "14"
      ],
      "text/plain": [
       "[1] 14"
      ]
     },
     "metadata": {},
     "output_type": "display_data"
    },
    {
     "data": {
      "text/html": [
       "14"
      ],
      "text/latex": [
       "14"
      ],
      "text/markdown": [
       "14"
      ],
      "text/plain": [
       "[1] 14"
      ]
     },
     "metadata": {},
     "output_type": "display_data"
    },
    {
     "data": {
      "text/html": [
       "3.14"
      ],
      "text/latex": [
       "3.14"
      ],
      "text/markdown": [
       "3.14"
      ],
      "text/plain": [
       "[1] 3.14"
      ]
     },
     "metadata": {},
     "output_type": "display_data"
    }
   ],
   "source": [
    "y <- list(a=list(10,12,14),b=c(3.14,0.07));\n",
    "y;\n",
    "\"--------------------------------------------------\"\n",
    "\n",
    "#To access inner element inside the 'a' list.\n",
    "y[[1]][3];  #This gives the index as well.\n",
    "y[[c(1,3)]];\n",
    "y[[1]][[3]];\n",
    "y[[c(2,1)]];"
   ]
  },
  {
   "cell_type": "code",
   "execution_count": 21,
   "metadata": {
    "collapsed": true
   },
   "outputs": [
    {
     "data": {
      "text/html": [
       "<table>\n",
       "<caption>A matrix: 3 × 2 of type int</caption>\n",
       "<tbody>\n",
       "\t<tr><td>1</td><td>4</td></tr>\n",
       "\t<tr><td>2</td><td>5</td></tr>\n",
       "\t<tr><td>3</td><td>6</td></tr>\n",
       "</tbody>\n",
       "</table>\n"
      ],
      "text/latex": [
       "A matrix: 3 × 2 of type int\n",
       "\\begin{tabular}{ll}\n",
       "\t 1 & 4\\\\\n",
       "\t 2 & 5\\\\\n",
       "\t 3 & 6\\\\\n",
       "\\end{tabular}\n"
      ],
      "text/markdown": [
       "\n",
       "A matrix: 3 × 2 of type int\n",
       "\n",
       "| 1 | 4 |\n",
       "| 2 | 5 |\n",
       "| 3 | 6 |\n",
       "\n"
      ],
      "text/plain": [
       "     [,1] [,2]\n",
       "[1,] 1    4   \n",
       "[2,] 2    5   \n",
       "[3,] 3    6   "
      ]
     },
     "metadata": {},
     "output_type": "display_data"
    },
    {
     "data": {
      "text/html": [
       "4"
      ],
      "text/latex": [
       "4"
      ],
      "text/markdown": [
       "4"
      ],
      "text/plain": [
       "[1] 4"
      ]
     },
     "metadata": {},
     "output_type": "display_data"
    },
    {
     "data": {
      "text/html": [
       "<ol class=list-inline>\n",
       "\t<li>4</li>\n",
       "\t<li>5</li>\n",
       "\t<li>6</li>\n",
       "</ol>\n"
      ],
      "text/latex": [
       "\\begin{enumerate*}\n",
       "\\item 4\n",
       "\\item 5\n",
       "\\item 6\n",
       "\\end{enumerate*}\n"
      ],
      "text/markdown": [
       "1. 4\n",
       "2. 5\n",
       "3. 6\n",
       "\n",
       "\n"
      ],
      "text/plain": [
       "[1] 4 5 6"
      ]
     },
     "metadata": {},
     "output_type": "display_data"
    }
   ],
   "source": [
    "mat <- matrix(1:6,ncol = 2,nrow = 3);\n",
    "mat;\n",
    "\n",
    "#Displays selected element\n",
    "mat[1,2]\n",
    "\n",
    "#Displays all rows in a column.\n",
    "mat[,2]"
   ]
  },
  {
   "cell_type": "code",
   "execution_count": 22,
   "metadata": {
    "collapsed": true
   },
   "outputs": [
    {
     "data": {
      "text/html": [
       "<ol class=list-inline>\n",
       "\t<li>1</li>\n",
       "\t<li>2</li>\n",
       "\t<li>3</li>\n",
       "\t<li>4</li>\n",
       "\t<li>5</li>\n",
       "</ol>\n"
      ],
      "text/latex": [
       "\\begin{enumerate*}\n",
       "\\item 1\n",
       "\\item 2\n",
       "\\item 3\n",
       "\\item 4\n",
       "\\item 5\n",
       "\\end{enumerate*}\n"
      ],
      "text/markdown": [
       "1. 1\n",
       "2. 2\n",
       "3. 3\n",
       "4. 4\n",
       "5. 5\n",
       "\n",
       "\n"
      ],
      "text/plain": [
       "[1] 1 2 3 4 5"
      ]
     },
     "metadata": {},
     "output_type": "display_data"
    },
    {
     "data": {
      "text/plain": [
       "NULL"
      ]
     },
     "metadata": {},
     "output_type": "display_data"
    },
    {
     "data": {
      "text/html": [
       "<ol class=list-inline>\n",
       "\t<li>1</li>\n",
       "\t<li>2</li>\n",
       "\t<li>3</li>\n",
       "\t<li>4</li>\n",
       "\t<li>5</li>\n",
       "</ol>\n"
      ],
      "text/latex": [
       "\\begin{enumerate*}\n",
       "\\item 1\n",
       "\\item 2\n",
       "\\item 3\n",
       "\\item 4\n",
       "\\item 5\n",
       "\\end{enumerate*}\n"
      ],
      "text/markdown": [
       "1. 1\n",
       "2. 2\n",
       "3. 3\n",
       "4. 4\n",
       "5. 5\n",
       "\n",
       "\n"
      ],
      "text/plain": [
       "[1] 1 2 3 4 5"
      ]
     },
     "metadata": {},
     "output_type": "display_data"
    },
    {
     "data": {
      "text/html": [
       "'-------------------------------------------------'"
      ],
      "text/latex": [
       "'-------------------------------------------------'"
      ],
      "text/markdown": [
       "'-------------------------------------------------'"
      ],
      "text/plain": [
       "[1] \"-------------------------------------------------\""
      ]
     },
     "metadata": {},
     "output_type": "display_data"
    },
    {
     "data": {
      "text/plain": [
       "NULL"
      ]
     },
     "metadata": {},
     "output_type": "display_data"
    },
    {
     "data": {
      "text/html": [
       "<ol class=list-inline>\n",
       "\t<li>1</li>\n",
       "\t<li>2</li>\n",
       "\t<li>3</li>\n",
       "\t<li>4</li>\n",
       "\t<li>5</li>\n",
       "</ol>\n"
      ],
      "text/latex": [
       "\\begin{enumerate*}\n",
       "\\item 1\n",
       "\\item 2\n",
       "\\item 3\n",
       "\\item 4\n",
       "\\item 5\n",
       "\\end{enumerate*}\n"
      ],
      "text/markdown": [
       "1. 1\n",
       "2. 2\n",
       "3. 3\n",
       "4. 4\n",
       "5. 5\n",
       "\n",
       "\n"
      ],
      "text/plain": [
       "[1] 1 2 3 4 5"
      ]
     },
     "metadata": {},
     "output_type": "display_data"
    },
    {
     "data": {
      "text/html": [
       "<ol class=list-inline>\n",
       "\t<li>6</li>\n",
       "\t<li>7</li>\n",
       "\t<li>8</li>\n",
       "\t<li>9</li>\n",
       "\t<li>10</li>\n",
       "</ol>\n"
      ],
      "text/latex": [
       "\\begin{enumerate*}\n",
       "\\item 6\n",
       "\\item 7\n",
       "\\item 8\n",
       "\\item 9\n",
       "\\item 10\n",
       "\\end{enumerate*}\n"
      ],
      "text/markdown": [
       "1. 6\n",
       "2. 7\n",
       "3. 8\n",
       "4. 9\n",
       "5. 10\n",
       "\n",
       "\n"
      ],
      "text/plain": [
       "[1]  6  7  8  9 10"
      ]
     },
     "metadata": {},
     "output_type": "display_data"
    },
    {
     "data": {
      "text/plain": [
       "NULL"
      ]
     },
     "metadata": {},
     "output_type": "display_data"
    },
    {
     "data": {
      "text/html": [
       "<ol class=list-inline>\n",
       "\t<li>1</li>\n",
       "\t<li>2</li>\n",
       "\t<li>3</li>\n",
       "\t<li>4</li>\n",
       "\t<li>5</li>\n",
       "</ol>\n"
      ],
      "text/latex": [
       "\\begin{enumerate*}\n",
       "\\item 1\n",
       "\\item 2\n",
       "\\item 3\n",
       "\\item 4\n",
       "\\item 5\n",
       "\\end{enumerate*}\n"
      ],
      "text/markdown": [
       "1. 1\n",
       "2. 2\n",
       "3. 3\n",
       "4. 4\n",
       "5. 5\n",
       "\n",
       "\n"
      ],
      "text/plain": [
       "[1] 1 2 3 4 5"
      ]
     },
     "metadata": {},
     "output_type": "display_data"
    }
   ],
   "source": [
    "#Partial matching of variable names. Here, 'a' is auto matched to alarm.\n",
    "x <- list(alarm=1:5);\n",
    "x$a;\n",
    "\n",
    "#Partial matching does not work for quoted text. You need to specify the exact name for it to match thru quotes\n",
    "#To enable partial matching, we use exact=FALSE.\n",
    "x[['a']]\n",
    "x[['a',exact=FALSE]]\n",
    "\"-------------------------------------------------\"\n",
    "\n",
    "\n",
    "#If two variable start with the same word, you need to specify more otherwise output is NULL.\n",
    "x <- list(alarm=1:5,axe=6:10);\n",
    "x$a;\n",
    "x$al;\n",
    "x$ax;\n",
    "\n",
    "x[['al']]\n",
    "x[['al',exact=FALSE]]"
   ]
  },
  {
   "cell_type": "code",
   "execution_count": 23,
   "metadata": {
    "collapsed": true
   },
   "outputs": [
    {
     "data": {
      "text/html": [
       "<ol class=list-inline>\n",
       "\t<li>FALSE</li>\n",
       "\t<li>FALSE</li>\n",
       "\t<li>TRUE</li>\n",
       "\t<li>TRUE</li>\n",
       "\t<li>FALSE</li>\n",
       "\t<li>TRUE</li>\n",
       "</ol>\n"
      ],
      "text/latex": [
       "\\begin{enumerate*}\n",
       "\\item FALSE\n",
       "\\item FALSE\n",
       "\\item TRUE\n",
       "\\item TRUE\n",
       "\\item FALSE\n",
       "\\item TRUE\n",
       "\\end{enumerate*}\n"
      ],
      "text/markdown": [
       "1. FALSE\n",
       "2. FALSE\n",
       "3. TRUE\n",
       "4. TRUE\n",
       "5. FALSE\n",
       "6. TRUE\n",
       "\n",
       "\n"
      ],
      "text/plain": [
       "[1] FALSE FALSE  TRUE  TRUE FALSE  TRUE"
      ]
     },
     "metadata": {},
     "output_type": "display_data"
    },
    {
     "data": {
      "text/html": [
       "<ol class=list-inline>\n",
       "\t<li>&lt;NA&gt;</li>\n",
       "\t<li>&lt;NA&gt;</li>\n",
       "\t<li>&lt;NA&gt;</li>\n",
       "</ol>\n"
      ],
      "text/latex": [
       "\\begin{enumerate*}\n",
       "\\item <NA>\n",
       "\\item <NA>\n",
       "\\item <NA>\n",
       "\\end{enumerate*}\n"
      ],
      "text/markdown": [
       "1. &lt;NA&gt;\n",
       "2. &lt;NA&gt;\n",
       "3. &lt;NA&gt;\n",
       "\n",
       "\n"
      ],
      "text/plain": [
       "[1] NA NA NA"
      ]
     },
     "metadata": {},
     "output_type": "display_data"
    },
    {
     "data": {
      "text/html": [
       "<ol class=list-inline>\n",
       "\t<li>1</li>\n",
       "\t<li>2</li>\n",
       "\t<li>5</li>\n",
       "</ol>\n"
      ],
      "text/latex": [
       "\\begin{enumerate*}\n",
       "\\item 1\n",
       "\\item 2\n",
       "\\item 5\n",
       "\\end{enumerate*}\n"
      ],
      "text/markdown": [
       "1. 1\n",
       "2. 2\n",
       "3. 5\n",
       "\n",
       "\n"
      ],
      "text/plain": [
       "[1] 1 2 5"
      ]
     },
     "metadata": {},
     "output_type": "display_data"
    }
   ],
   "source": [
    "x <- c(1,2,NA,NA,5,NA);\n",
    "blank <- is.na(x)\n",
    "blank\n",
    "\n",
    "#Prints all NA values\n",
    "x[blank]\n",
    "\n",
    "#Prints all non-NA values\n",
    "x[!blank]\n"
   ]
  },
  {
   "cell_type": "code",
   "execution_count": 24,
   "metadata": {
    "collapsed": true
   },
   "outputs": [
    {
     "data": {
      "text/html": [
       "<ol class=list-inline>\n",
       "\t<li>TRUE</li>\n",
       "\t<li>TRUE</li>\n",
       "\t<li>FALSE</li>\n",
       "\t<li>FALSE</li>\n",
       "\t<li>FALSE</li>\n",
       "\t<li>FALSE</li>\n",
       "</ol>\n"
      ],
      "text/latex": [
       "\\begin{enumerate*}\n",
       "\\item TRUE\n",
       "\\item TRUE\n",
       "\\item FALSE\n",
       "\\item FALSE\n",
       "\\item FALSE\n",
       "\\item FALSE\n",
       "\\end{enumerate*}\n"
      ],
      "text/markdown": [
       "1. TRUE\n",
       "2. TRUE\n",
       "3. FALSE\n",
       "4. FALSE\n",
       "5. FALSE\n",
       "6. FALSE\n",
       "\n",
       "\n"
      ],
      "text/plain": [
       "[1]  TRUE  TRUE FALSE FALSE FALSE FALSE"
      ]
     },
     "metadata": {},
     "output_type": "display_data"
    },
    {
     "data": {
      "text/html": [
       "<ol class=list-inline>\n",
       "\t<li>1</li>\n",
       "\t<li>2</li>\n",
       "</ol>\n"
      ],
      "text/latex": [
       "\\begin{enumerate*}\n",
       "\\item 1\n",
       "\\item 2\n",
       "\\end{enumerate*}\n"
      ],
      "text/markdown": [
       "1. 1\n",
       "2. 2\n",
       "\n",
       "\n"
      ],
      "text/plain": [
       "[1] 1 2"
      ]
     },
     "metadata": {},
     "output_type": "display_data"
    },
    {
     "data": {
      "text/html": [
       "<ol class=list-inline>\n",
       "\t<li>'a'</li>\n",
       "\t<li>'b'</li>\n",
       "</ol>\n"
      ],
      "text/latex": [
       "\\begin{enumerate*}\n",
       "\\item 'a'\n",
       "\\item 'b'\n",
       "\\end{enumerate*}\n"
      ],
      "text/markdown": [
       "1. 'a'\n",
       "2. 'b'\n",
       "\n",
       "\n"
      ],
      "text/plain": [
       "[1] \"a\" \"b\""
      ]
     },
     "metadata": {},
     "output_type": "display_data"
    }
   ],
   "source": [
    "y<- c('a','b',NA,'d',NA,'f')\n",
    "data <- complete.cases(x,y)\n",
    "data\n",
    "x[data]\n",
    "y[data]"
   ]
  },
  {
   "cell_type": "code",
   "execution_count": 25,
   "metadata": {
    "collapsed": true
   },
   "outputs": [
    {
     "data": {
      "text/html": [
       "<ol class=list-inline>\n",
       "\t<li>1</li>\n",
       "\t<li>2</li>\n",
       "\t<li>3</li>\n",
       "\t<li>4</li>\n",
       "\t<li>5</li>\n",
       "\t<li>6</li>\n",
       "</ol>\n"
      ],
      "text/latex": [
       "\\begin{enumerate*}\n",
       "\\item 1\n",
       "\\item 2\n",
       "\\item 3\n",
       "\\item 4\n",
       "\\item 5\n",
       "\\item 6\n",
       "\\end{enumerate*}\n"
      ],
      "text/markdown": [
       "1. 1\n",
       "2. 2\n",
       "3. 3\n",
       "4. 4\n",
       "5. 5\n",
       "6. 6\n",
       "\n",
       "\n"
      ],
      "text/plain": [
       "[1] 1 2 3 4 5 6"
      ]
     },
     "metadata": {},
     "output_type": "display_data"
    },
    {
     "data": {
      "text/html": [
       "<ol class=list-inline>\n",
       "\t<li>7</li>\n",
       "\t<li>8</li>\n",
       "\t<li>9</li>\n",
       "\t<li>10</li>\n",
       "\t<li>11</li>\n",
       "\t<li>12</li>\n",
       "</ol>\n"
      ],
      "text/latex": [
       "\\begin{enumerate*}\n",
       "\\item 7\n",
       "\\item 8\n",
       "\\item 9\n",
       "\\item 10\n",
       "\\item 11\n",
       "\\item 12\n",
       "\\end{enumerate*}\n"
      ],
      "text/markdown": [
       "1. 7\n",
       "2. 8\n",
       "3. 9\n",
       "4. 10\n",
       "5. 11\n",
       "6. 12\n",
       "\n",
       "\n"
      ],
      "text/plain": [
       "[1]  7  8  9 10 11 12"
      ]
     },
     "metadata": {},
     "output_type": "display_data"
    },
    {
     "data": {
      "text/html": [
       "<ol class=list-inline>\n",
       "\t<li>8</li>\n",
       "\t<li>10</li>\n",
       "\t<li>12</li>\n",
       "\t<li>14</li>\n",
       "\t<li>16</li>\n",
       "\t<li>18</li>\n",
       "</ol>\n"
      ],
      "text/latex": [
       "\\begin{enumerate*}\n",
       "\\item 8\n",
       "\\item 10\n",
       "\\item 12\n",
       "\\item 14\n",
       "\\item 16\n",
       "\\item 18\n",
       "\\end{enumerate*}\n"
      ],
      "text/markdown": [
       "1. 8\n",
       "2. 10\n",
       "3. 12\n",
       "4. 14\n",
       "5. 16\n",
       "6. 18\n",
       "\n",
       "\n"
      ],
      "text/plain": [
       "[1]  8 10 12 14 16 18"
      ]
     },
     "metadata": {},
     "output_type": "display_data"
    },
    {
     "data": {
      "text/html": [
       "<ol class=list-inline>\n",
       "\t<li>FALSE</li>\n",
       "\t<li>FALSE</li>\n",
       "\t<li>FALSE</li>\n",
       "\t<li>TRUE</li>\n",
       "\t<li>TRUE</li>\n",
       "\t<li>TRUE</li>\n",
       "</ol>\n"
      ],
      "text/latex": [
       "\\begin{enumerate*}\n",
       "\\item FALSE\n",
       "\\item FALSE\n",
       "\\item FALSE\n",
       "\\item TRUE\n",
       "\\item TRUE\n",
       "\\item TRUE\n",
       "\\end{enumerate*}\n"
      ],
      "text/markdown": [
       "1. FALSE\n",
       "2. FALSE\n",
       "3. FALSE\n",
       "4. TRUE\n",
       "5. TRUE\n",
       "6. TRUE\n",
       "\n",
       "\n"
      ],
      "text/plain": [
       "[1] FALSE FALSE FALSE  TRUE  TRUE  TRUE"
      ]
     },
     "metadata": {},
     "output_type": "display_data"
    },
    {
     "data": {
      "text/html": [
       "<ol class=list-inline>\n",
       "\t<li>FALSE</li>\n",
       "\t<li>TRUE</li>\n",
       "\t<li>TRUE</li>\n",
       "\t<li>TRUE</li>\n",
       "\t<li>TRUE</li>\n",
       "\t<li>TRUE</li>\n",
       "</ol>\n"
      ],
      "text/latex": [
       "\\begin{enumerate*}\n",
       "\\item FALSE\n",
       "\\item TRUE\n",
       "\\item TRUE\n",
       "\\item TRUE\n",
       "\\item TRUE\n",
       "\\item TRUE\n",
       "\\end{enumerate*}\n"
      ],
      "text/markdown": [
       "1. FALSE\n",
       "2. TRUE\n",
       "3. TRUE\n",
       "4. TRUE\n",
       "5. TRUE\n",
       "6. TRUE\n",
       "\n",
       "\n"
      ],
      "text/plain": [
       "[1] FALSE  TRUE  TRUE  TRUE  TRUE  TRUE"
      ]
     },
     "metadata": {},
     "output_type": "display_data"
    },
    {
     "data": {
      "text/html": [
       "<ol class=list-inline>\n",
       "\t<li>FALSE</li>\n",
       "\t<li>FALSE</li>\n",
       "\t<li>FALSE</li>\n",
       "\t<li>FALSE</li>\n",
       "\t<li>TRUE</li>\n",
       "\t<li>FALSE</li>\n",
       "</ol>\n"
      ],
      "text/latex": [
       "\\begin{enumerate*}\n",
       "\\item FALSE\n",
       "\\item FALSE\n",
       "\\item FALSE\n",
       "\\item FALSE\n",
       "\\item TRUE\n",
       "\\item FALSE\n",
       "\\end{enumerate*}\n"
      ],
      "text/markdown": [
       "1. FALSE\n",
       "2. FALSE\n",
       "3. FALSE\n",
       "4. FALSE\n",
       "5. TRUE\n",
       "6. FALSE\n",
       "\n",
       "\n"
      ],
      "text/plain": [
       "[1] FALSE FALSE FALSE FALSE  TRUE FALSE"
      ]
     },
     "metadata": {},
     "output_type": "display_data"
    },
    {
     "data": {
      "text/html": [
       "<ol class=list-inline>\n",
       "\t<li>7</li>\n",
       "\t<li>16</li>\n",
       "\t<li>27</li>\n",
       "\t<li>40</li>\n",
       "\t<li>55</li>\n",
       "\t<li>72</li>\n",
       "</ol>\n"
      ],
      "text/latex": [
       "\\begin{enumerate*}\n",
       "\\item 7\n",
       "\\item 16\n",
       "\\item 27\n",
       "\\item 40\n",
       "\\item 55\n",
       "\\item 72\n",
       "\\end{enumerate*}\n"
      ],
      "text/markdown": [
       "1. 7\n",
       "2. 16\n",
       "3. 27\n",
       "4. 40\n",
       "5. 55\n",
       "6. 72\n",
       "\n",
       "\n"
      ],
      "text/plain": [
       "[1]  7 16 27 40 55 72"
      ]
     },
     "metadata": {},
     "output_type": "display_data"
    }
   ],
   "source": [
    "#Logical operations on vectors\n",
    "\n",
    "x = 1:6;\n",
    "y = 7:12;\n",
    "x\n",
    "y\n",
    "x+y\n",
    "x>3\n",
    "x>=2\n",
    "x==5\n",
    "x*y"
   ]
  },
  {
   "cell_type": "code",
   "execution_count": 26,
   "metadata": {
    "collapsed": true
   },
   "outputs": [
    {
     "data": {
      "text/html": [
       "<table>\n",
       "<caption>A matrix: 2 × 2 of type int</caption>\n",
       "<tbody>\n",
       "\t<tr><td>1</td><td>3</td></tr>\n",
       "\t<tr><td>2</td><td>4</td></tr>\n",
       "</tbody>\n",
       "</table>\n"
      ],
      "text/latex": [
       "A matrix: 2 × 2 of type int\n",
       "\\begin{tabular}{ll}\n",
       "\t 1 & 3\\\\\n",
       "\t 2 & 4\\\\\n",
       "\\end{tabular}\n"
      ],
      "text/markdown": [
       "\n",
       "A matrix: 2 × 2 of type int\n",
       "\n",
       "| 1 | 3 |\n",
       "| 2 | 4 |\n",
       "\n"
      ],
      "text/plain": [
       "     [,1] [,2]\n",
       "[1,] 1    3   \n",
       "[2,] 2    4   "
      ]
     },
     "metadata": {},
     "output_type": "display_data"
    },
    {
     "data": {
      "text/html": [
       "<table>\n",
       "<caption>A matrix: 2 × 2 of type dbl</caption>\n",
       "<tbody>\n",
       "\t<tr><td>10</td><td>10</td></tr>\n",
       "\t<tr><td>10</td><td>10</td></tr>\n",
       "</tbody>\n",
       "</table>\n"
      ],
      "text/latex": [
       "A matrix: 2 × 2 of type dbl\n",
       "\\begin{tabular}{ll}\n",
       "\t 10 & 10\\\\\n",
       "\t 10 & 10\\\\\n",
       "\\end{tabular}\n"
      ],
      "text/markdown": [
       "\n",
       "A matrix: 2 × 2 of type dbl\n",
       "\n",
       "| 10 | 10 |\n",
       "| 10 | 10 |\n",
       "\n"
      ],
      "text/plain": [
       "     [,1] [,2]\n",
       "[1,] 10   10  \n",
       "[2,] 10   10  "
      ]
     },
     "metadata": {},
     "output_type": "display_data"
    },
    {
     "data": {
      "text/html": [
       "<table>\n",
       "<caption>A matrix: 2 × 2 of type dbl</caption>\n",
       "<tbody>\n",
       "\t<tr><td>10</td><td>30</td></tr>\n",
       "\t<tr><td>20</td><td>40</td></tr>\n",
       "</tbody>\n",
       "</table>\n"
      ],
      "text/latex": [
       "A matrix: 2 × 2 of type dbl\n",
       "\\begin{tabular}{ll}\n",
       "\t 10 & 30\\\\\n",
       "\t 20 & 40\\\\\n",
       "\\end{tabular}\n"
      ],
      "text/markdown": [
       "\n",
       "A matrix: 2 × 2 of type dbl\n",
       "\n",
       "| 10 | 30 |\n",
       "| 20 | 40 |\n",
       "\n"
      ],
      "text/plain": [
       "     [,1] [,2]\n",
       "[1,] 10   30  \n",
       "[2,] 20   40  "
      ]
     },
     "metadata": {},
     "output_type": "display_data"
    },
    {
     "data": {
      "text/html": [
       "<table>\n",
       "<caption>A matrix: 2 × 2 of type dbl</caption>\n",
       "<tbody>\n",
       "\t<tr><td>40</td><td>40</td></tr>\n",
       "\t<tr><td>60</td><td>60</td></tr>\n",
       "</tbody>\n",
       "</table>\n"
      ],
      "text/latex": [
       "A matrix: 2 × 2 of type dbl\n",
       "\\begin{tabular}{ll}\n",
       "\t 40 & 40\\\\\n",
       "\t 60 & 60\\\\\n",
       "\\end{tabular}\n"
      ],
      "text/markdown": [
       "\n",
       "A matrix: 2 × 2 of type dbl\n",
       "\n",
       "| 40 | 40 |\n",
       "| 60 | 60 |\n",
       "\n"
      ],
      "text/plain": [
       "     [,1] [,2]\n",
       "[1,] 40   40  \n",
       "[2,] 60   60  "
      ]
     },
     "metadata": {},
     "output_type": "display_data"
    }
   ],
   "source": [
    "#Operations on matrix\n",
    "\n",
    "mat1 <- matrix(1:4,2,2)\n",
    "\n",
    "# rep is used to repeat an element n number of times.\n",
    "mat2 <- matrix(rep(10,4),2,2)\n",
    "\n",
    "mat1\n",
    "mat2\n",
    "\n",
    "#Element wise multiplication.\n",
    "mat1*mat2\n",
    "\n",
    "#True matrix multiplication.\n",
    "mat1%*%mat2"
   ]
  },
  {
   "cell_type": "code",
   "execution_count": 27,
   "metadata": {},
   "outputs": [
    {
     "data": {
      "text/html": [
       "10"
      ],
      "text/latex": [
       "10"
      ],
      "text/markdown": [
       "10"
      ],
      "text/plain": [
       "[1] 10"
      ]
     },
     "metadata": {},
     "output_type": "display_data"
    }
   ],
   "source": [
    "#Conditionals in R\n",
    "t = 6;\n",
    "if(t>3){\n",
    "    10;\n",
    "    #\"Greater\";\n",
    "}else{\n",
    "    0;\n",
    "    #\"Nope\";\n",
    "}"
   ]
  },
  {
   "cell_type": "code",
   "execution_count": 28,
   "metadata": {},
   "outputs": [
    {
     "name": "stdout",
     "output_type": "stream",
     "text": [
      "[1] \"a\"\n",
      "[1] \"b\"\n",
      "[1] \"c\"\n",
      "[1] \"d\"\n"
     ]
    },
    {
     "data": {
      "text/html": [
       "'-------------------------------------------------------------------------------------------------------------------'"
      ],
      "text/latex": [
       "'-------------------------------------------------------------------------------------------------------------------'"
      ],
      "text/markdown": [
       "'-------------------------------------------------------------------------------------------------------------------'"
      ],
      "text/plain": [
       "[1] \"-------------------------------------------------------------------------------------------------------------------\""
      ]
     },
     "metadata": {},
     "output_type": "display_data"
    },
    {
     "name": "stdout",
     "output_type": "stream",
     "text": [
      "[1] \"a\"\n",
      "[1] \"b\"\n",
      "[1] \"c\"\n",
      "[1] \"d\"\n"
     ]
    },
    {
     "data": {
      "text/html": [
       "'-------------------------------------------------------------------------------------------------------------------'"
      ],
      "text/latex": [
       "'-------------------------------------------------------------------------------------------------------------------'"
      ],
      "text/markdown": [
       "'-------------------------------------------------------------------------------------------------------------------'"
      ],
      "text/plain": [
       "[1] \"-------------------------------------------------------------------------------------------------------------------\""
      ]
     },
     "metadata": {},
     "output_type": "display_data"
    },
    {
     "data": {
      "text/html": [
       "<table>\n",
       "<caption>A matrix: 2 × 3 of type int</caption>\n",
       "<tbody>\n",
       "\t<tr><td>1</td><td>3</td><td>5</td></tr>\n",
       "\t<tr><td>2</td><td>4</td><td>6</td></tr>\n",
       "</tbody>\n",
       "</table>\n"
      ],
      "text/latex": [
       "A matrix: 2 × 3 of type int\n",
       "\\begin{tabular}{lll}\n",
       "\t 1 & 3 & 5\\\\\n",
       "\t 2 & 4 & 6\\\\\n",
       "\\end{tabular}\n"
      ],
      "text/markdown": [
       "\n",
       "A matrix: 2 × 3 of type int\n",
       "\n",
       "| 1 | 3 | 5 |\n",
       "| 2 | 4 | 6 |\n",
       "\n"
      ],
      "text/plain": [
       "     [,1] [,2] [,3]\n",
       "[1,] 1    3    5   \n",
       "[2,] 2    4    6   "
      ]
     },
     "metadata": {},
     "output_type": "display_data"
    },
    {
     "name": "stdout",
     "output_type": "stream",
     "text": [
      "[1] 1\n",
      "[1] \"\\n\"\n"
     ]
    }
   ],
   "source": [
    "#Loops in R\n",
    "x <- c('a','b','c','d')\n",
    "for(i in x){\n",
    "    print(i);\n",
    "}\n",
    "'-------------------------------------------------------------------------------------------------------------------'\n",
    "\n",
    "#Using seq_along to convert a vector to sequence.\n",
    "for (i in seq_along(x)){\n",
    "    print(x[i])\n",
    "}\n",
    "'-------------------------------------------------------------------------------------------------------------------'\n",
    "rm(x)\n",
    "x <- matrix(1:6,2,3);\n",
    "x\n",
    "for(i in seq_along(nrow(x))){\n",
    "    for(j in seq_along(ncol(x))){\n",
    "        print(x[i,j])\n",
    "    }\n",
    "    print('\\n')\n",
    "}"
   ]
  },
  {
   "cell_type": "code",
   "execution_count": 48,
   "metadata": {},
   "outputs": [
    {
     "name": "stdout",
     "output_type": "stream",
     "text": [
      "[1] 0\n",
      "[1] 1\n",
      "[1] 2\n",
      "[1] 3\n",
      "[1] 4\n",
      "[1] 5\n",
      "[1] 6\n",
      "[1] 7\n",
      "[1] 8\n",
      "[1] 9\n"
     ]
    },
    {
     "data": {
      "text/html": [
       "'Using while'"
      ],
      "text/latex": [
       "'Using while'"
      ],
      "text/markdown": [
       "'Using while'"
      ],
      "text/plain": [
       "[1] \"Using while\""
      ]
     },
     "metadata": {},
     "output_type": "display_data"
    },
    {
     "name": "stdout",
     "output_type": "stream",
     "text": [
      "[1] 5\n",
      "[1] 4\n",
      "[1] 3\n"
     ]
    },
    {
     "data": {
      "text/html": [
       "'Using repeat'"
      ],
      "text/latex": [
       "'Using repeat'"
      ],
      "text/markdown": [
       "'Using repeat'"
      ],
      "text/plain": [
       "[1] \"Using repeat\""
      ]
     },
     "metadata": {},
     "output_type": "display_data"
    }
   ],
   "source": [
    "count <- 0;\n",
    "while(count<10){\n",
    "    print(count);\n",
    "    count <- count+1\n",
    "}\n",
    "\"Using while\"\n",
    "x<- 5\n",
    "while(x>=3 & x<=10){\n",
    "    print(x)\n",
    "    coln <- rbinom(1,1,0.5)\n",
    "    if(coln==1){\n",
    "        x <- x+1\n",
    "    }else{\n",
    "        x <- x-1\n",
    "    }\n",
    "}\n",
    "\"Using repeat\"\n",
    "x0 <- 1\n",
    "y0 <- 100\n",
    "repeat{\n",
    "    x1 <- -50\n",
    "    if(abs(x1-x0)<y0){\n",
    "        break\n",
    "    }else{\n",
    "        x0 <- x1\n",
    "        print(x0)\n",
    "    }\n",
    "}\n",
    "\n",
    "#Using next functions the same as continue."
   ]
  },
  {
   "cell_type": "code",
   "execution_count": 58,
   "metadata": {},
   "outputs": [
    {
     "data": {
      "text/html": [
       "<ol class=list-inline>\n",
       "\t<li>8</li>\n",
       "\t<li>10</li>\n",
       "\t<li>12</li>\n",
       "\t<li>14</li>\n",
       "</ol>\n"
      ],
      "text/latex": [
       "\\begin{enumerate*}\n",
       "\\item 8\n",
       "\\item 10\n",
       "\\item 12\n",
       "\\item 14\n",
       "\\end{enumerate*}\n"
      ],
      "text/markdown": [
       "1. 8\n",
       "2. 10\n",
       "3. 12\n",
       "4. 14\n",
       "\n",
       "\n"
      ],
      "text/plain": [
       "[1]  8 10 12 14"
      ]
     },
     "metadata": {},
     "output_type": "display_data"
    },
    {
     "data": {
      "text/html": [
       "<ol class=list-inline>\n",
       "\t<li>8</li>\n",
       "\t<li>9</li>\n",
       "\t<li>10</li>\n",
       "\t<li>11</li>\n",
       "\t<li>12</li>\n",
       "\t<li>13</li>\n",
       "\t<li>14</li>\n",
       "\t<li>15</li>\n",
       "\t<li>16</li>\n",
       "\t<li>17</li>\n",
       "\t<li>18</li>\n",
       "\t<li>19</li>\n",
       "\t<li>20</li>\n",
       "\t<li>21</li>\n",
       "\t<li>22</li>\n",
       "\t<li>23</li>\n",
       "\t<li>24</li>\n",
       "\t<li>25</li>\n",
       "\t<li>26</li>\n",
       "\t<li>27</li>\n",
       "\t<li>28</li>\n",
       "\t<li>29</li>\n",
       "\t<li>30</li>\n",
       "</ol>\n"
      ],
      "text/latex": [
       "\\begin{enumerate*}\n",
       "\\item 8\n",
       "\\item 9\n",
       "\\item 10\n",
       "\\item 11\n",
       "\\item 12\n",
       "\\item 13\n",
       "\\item 14\n",
       "\\item 15\n",
       "\\item 16\n",
       "\\item 17\n",
       "\\item 18\n",
       "\\item 19\n",
       "\\item 20\n",
       "\\item 21\n",
       "\\item 22\n",
       "\\item 23\n",
       "\\item 24\n",
       "\\item 25\n",
       "\\item 26\n",
       "\\item 27\n",
       "\\item 28\n",
       "\\item 29\n",
       "\\item 30\n",
       "\\end{enumerate*}\n"
      ],
      "text/markdown": [
       "1. 8\n",
       "2. 9\n",
       "3. 10\n",
       "4. 11\n",
       "5. 12\n",
       "6. 13\n",
       "7. 14\n",
       "8. 15\n",
       "9. 16\n",
       "10. 17\n",
       "11. 18\n",
       "12. 19\n",
       "13. 20\n",
       "14. 21\n",
       "15. 22\n",
       "16. 23\n",
       "17. 24\n",
       "18. 25\n",
       "19. 26\n",
       "20. 27\n",
       "21. 28\n",
       "22. 29\n",
       "23. 30\n",
       "\n",
       "\n"
      ],
      "text/plain": [
       " [1]  8  9 10 11 12 13 14 15 16 17 18 19 20 21 22 23 24 25 26 27 28 29 30"
      ]
     },
     "metadata": {},
     "output_type": "display_data"
    }
   ],
   "source": [
    "#Functions in R\n",
    "add2 <- function(x,y){\n",
    "    x+y\n",
    "}\n",
    "\n",
    "add2(2:5,6:9)\n",
    "\n",
    "above10 <- function(x,y){\n",
    "    #Uses the operation on the left to all arguments passed in.\n",
    "    use <- x>y\n",
    "    x[use]\n",
    "}\n",
    "\n",
    "above10(1:30,7)"
   ]
  },
  {
   "cell_type": "code",
   "execution_count": 63,
   "metadata": {},
   "outputs": [
    {
     "data": {
      "text/html": [
       "<table>\n",
       "<caption>A matrix: 2 × 5 of type int</caption>\n",
       "<tbody>\n",
       "\t<tr><td>1</td><td>3</td><td>5</td><td>7</td><td> 9</td></tr>\n",
       "\t<tr><td>2</td><td>4</td><td>6</td><td>8</td><td>10</td></tr>\n",
       "</tbody>\n",
       "</table>\n"
      ],
      "text/latex": [
       "A matrix: 2 × 5 of type int\n",
       "\\begin{tabular}{lllll}\n",
       "\t 1 & 3 & 5 & 7 &  9\\\\\n",
       "\t 2 & 4 & 6 & 8 & 10\\\\\n",
       "\\end{tabular}\n"
      ],
      "text/markdown": [
       "\n",
       "A matrix: 2 × 5 of type int\n",
       "\n",
       "| 1 | 3 | 5 | 7 |  9 |\n",
       "| 2 | 4 | 6 | 8 | 10 |\n",
       "\n"
      ],
      "text/plain": [
       "     [,1] [,2] [,3] [,4] [,5]\n",
       "[1,] 1    3    5    7     9  \n",
       "[2,] 2    4    6    8    10  "
      ]
     },
     "metadata": {},
     "output_type": "display_data"
    },
    {
     "data": {
      "text/html": [
       "'double'"
      ],
      "text/latex": [
       "'double'"
      ],
      "text/markdown": [
       "'double'"
      ],
      "text/plain": [
       "[1] \"double\""
      ]
     },
     "metadata": {},
     "output_type": "display_data"
    }
   ],
   "source": [
    "#Function to find mean of a column\n",
    "colmean <- function(x, removeNA = TRUE){\n",
    "    nc <- ncol(x)\n",
    "    means <- numeric(nc)\n",
    "    for(i in 1:nc){\n",
    "        means[i]=mean(x[,i])\n",
    "    }\n",
    "    means\n",
    "    typeof(means)\n",
    "}\n",
    "\n",
    "mat <- matrix(1:10,2,5)\n",
    "mat\n",
    "colmean(mat)"
   ]
  },
  {
   "cell_type": "code",
   "execution_count": 27,
   "metadata": {},
   "outputs": [
    {
     "data": {
      "text/html": [
       "<ol class=list-inline>\n",
       "\t<li>'Jan'</li>\n",
       "\t<li>'Feb'</li>\n",
       "\t<li>'Mar'</li>\n",
       "\t<li>'Apr'</li>\n",
       "\t<li>'May'</li>\n",
       "\t<li>'Jun'</li>\n",
       "\t<li>'Jul'</li>\n",
       "\t<li>'Aug'</li>\n",
       "\t<li>'Sep'</li>\n",
       "\t<li>'Oct'</li>\n",
       "\t<li>'Nov'</li>\n",
       "\t<li>'Dec'</li>\n",
       "</ol>\n"
      ],
      "text/latex": [
       "\\begin{enumerate*}\n",
       "\\item 'Jan'\n",
       "\\item 'Feb'\n",
       "\\item 'Mar'\n",
       "\\item 'Apr'\n",
       "\\item 'May'\n",
       "\\item 'Jun'\n",
       "\\item 'Jul'\n",
       "\\item 'Aug'\n",
       "\\item 'Sep'\n",
       "\\item 'Oct'\n",
       "\\item 'Nov'\n",
       "\\item 'Dec'\n",
       "\\end{enumerate*}\n"
      ],
      "text/markdown": [
       "1. 'Jan'\n",
       "2. 'Feb'\n",
       "3. 'Mar'\n",
       "4. 'Apr'\n",
       "5. 'May'\n",
       "6. 'Jun'\n",
       "7. 'Jul'\n",
       "8. 'Aug'\n",
       "9. 'Sep'\n",
       "10. 'Oct'\n",
       "11. 'Nov'\n",
       "12. 'Dec'\n",
       "\n",
       "\n"
      ],
      "text/plain": [
       " [1] \"Jan\" \"Feb\" \"Mar\" \"Apr\" \"May\" \"Jun\" \"Jul\" \"Aug\" \"Sep\" \"Oct\" \"Nov\" \"Dec\""
      ]
     },
     "metadata": {},
     "output_type": "display_data"
    }
   ],
   "source": [
    "month.abb"
   ]
  },
  {
   "cell_type": "code",
   "execution_count": 30,
   "metadata": {},
   "outputs": [
    {
     "data": {
      "text/html": [
       "'x'"
      ],
      "text/latex": [
       "'x'"
      ],
      "text/markdown": [
       "'x'"
      ],
      "text/plain": [
       "[1] \"x\""
      ]
     },
     "metadata": {},
     "output_type": "display_data"
    }
   ],
   "source": [
    "j= list('x',TRUE,1,5.1,7L)\n",
    "j[[1]]"
   ]
  },
  {
   "cell_type": "code",
   "execution_count": 34,
   "metadata": {},
   "outputs": [
    {
     "data": {
      "text/html": [
       "<table>\n",
       "<caption>A data.frame: 71 × 2</caption>\n",
       "<thead>\n",
       "\t<tr><th scope=col>weight</th><th scope=col>feed</th></tr>\n",
       "\t<tr><th scope=col>&lt;dbl&gt;</th><th scope=col>&lt;fct&gt;</th></tr>\n",
       "</thead>\n",
       "<tbody>\n",
       "\t<tr><td>179</td><td>horsebean</td></tr>\n",
       "\t<tr><td>160</td><td>horsebean</td></tr>\n",
       "\t<tr><td>136</td><td>horsebean</td></tr>\n",
       "\t<tr><td>227</td><td>horsebean</td></tr>\n",
       "\t<tr><td>217</td><td>horsebean</td></tr>\n",
       "\t<tr><td>168</td><td>horsebean</td></tr>\n",
       "\t<tr><td>108</td><td>horsebean</td></tr>\n",
       "\t<tr><td>124</td><td>horsebean</td></tr>\n",
       "\t<tr><td>143</td><td>horsebean</td></tr>\n",
       "\t<tr><td>140</td><td>horsebean</td></tr>\n",
       "\t<tr><td>309</td><td>linseed  </td></tr>\n",
       "\t<tr><td>229</td><td>linseed  </td></tr>\n",
       "\t<tr><td>181</td><td>linseed  </td></tr>\n",
       "\t<tr><td>141</td><td>linseed  </td></tr>\n",
       "\t<tr><td>260</td><td>linseed  </td></tr>\n",
       "\t<tr><td>203</td><td>linseed  </td></tr>\n",
       "\t<tr><td>148</td><td>linseed  </td></tr>\n",
       "\t<tr><td>169</td><td>linseed  </td></tr>\n",
       "\t<tr><td>213</td><td>linseed  </td></tr>\n",
       "\t<tr><td>257</td><td>linseed  </td></tr>\n",
       "\t<tr><td>244</td><td>linseed  </td></tr>\n",
       "\t<tr><td>271</td><td>linseed  </td></tr>\n",
       "\t<tr><td>243</td><td>soybean  </td></tr>\n",
       "\t<tr><td>230</td><td>soybean  </td></tr>\n",
       "\t<tr><td>248</td><td>soybean  </td></tr>\n",
       "\t<tr><td>327</td><td>soybean  </td></tr>\n",
       "\t<tr><td>329</td><td>soybean  </td></tr>\n",
       "\t<tr><td>250</td><td>soybean  </td></tr>\n",
       "\t<tr><td>193</td><td>soybean  </td></tr>\n",
       "\t<tr><td>271</td><td>soybean  </td></tr>\n",
       "\t<tr><td>⋮</td><td>⋮</td></tr>\n",
       "\t<tr><td>226</td><td>sunflower</td></tr>\n",
       "\t<tr><td>320</td><td>sunflower</td></tr>\n",
       "\t<tr><td>295</td><td>sunflower</td></tr>\n",
       "\t<tr><td>334</td><td>sunflower</td></tr>\n",
       "\t<tr><td>322</td><td>sunflower</td></tr>\n",
       "\t<tr><td>297</td><td>sunflower</td></tr>\n",
       "\t<tr><td>318</td><td>sunflower</td></tr>\n",
       "\t<tr><td>325</td><td>meatmeal </td></tr>\n",
       "\t<tr><td>257</td><td>meatmeal </td></tr>\n",
       "\t<tr><td>303</td><td>meatmeal </td></tr>\n",
       "\t<tr><td>315</td><td>meatmeal </td></tr>\n",
       "\t<tr><td>380</td><td>meatmeal </td></tr>\n",
       "\t<tr><td>153</td><td>meatmeal </td></tr>\n",
       "\t<tr><td>263</td><td>meatmeal </td></tr>\n",
       "\t<tr><td>242</td><td>meatmeal </td></tr>\n",
       "\t<tr><td>206</td><td>meatmeal </td></tr>\n",
       "\t<tr><td>344</td><td>meatmeal </td></tr>\n",
       "\t<tr><td>258</td><td>meatmeal </td></tr>\n",
       "\t<tr><td>368</td><td>casein   </td></tr>\n",
       "\t<tr><td>390</td><td>casein   </td></tr>\n",
       "\t<tr><td>379</td><td>casein   </td></tr>\n",
       "\t<tr><td>260</td><td>casein   </td></tr>\n",
       "\t<tr><td>404</td><td>casein   </td></tr>\n",
       "\t<tr><td>318</td><td>casein   </td></tr>\n",
       "\t<tr><td>352</td><td>casein   </td></tr>\n",
       "\t<tr><td>359</td><td>casein   </td></tr>\n",
       "\t<tr><td>216</td><td>casein   </td></tr>\n",
       "\t<tr><td>222</td><td>casein   </td></tr>\n",
       "\t<tr><td>283</td><td>casein   </td></tr>\n",
       "\t<tr><td>332</td><td>casein   </td></tr>\n",
       "</tbody>\n",
       "</table>\n"
      ],
      "text/latex": [
       "A data.frame: 71 × 2\n",
       "\\begin{tabular}{r|ll}\n",
       " weight & feed\\\\\n",
       " <dbl> & <fct>\\\\\n",
       "\\hline\n",
       "\t 179 & horsebean\\\\\n",
       "\t 160 & horsebean\\\\\n",
       "\t 136 & horsebean\\\\\n",
       "\t 227 & horsebean\\\\\n",
       "\t 217 & horsebean\\\\\n",
       "\t 168 & horsebean\\\\\n",
       "\t 108 & horsebean\\\\\n",
       "\t 124 & horsebean\\\\\n",
       "\t 143 & horsebean\\\\\n",
       "\t 140 & horsebean\\\\\n",
       "\t 309 & linseed  \\\\\n",
       "\t 229 & linseed  \\\\\n",
       "\t 181 & linseed  \\\\\n",
       "\t 141 & linseed  \\\\\n",
       "\t 260 & linseed  \\\\\n",
       "\t 203 & linseed  \\\\\n",
       "\t 148 & linseed  \\\\\n",
       "\t 169 & linseed  \\\\\n",
       "\t 213 & linseed  \\\\\n",
       "\t 257 & linseed  \\\\\n",
       "\t 244 & linseed  \\\\\n",
       "\t 271 & linseed  \\\\\n",
       "\t 243 & soybean  \\\\\n",
       "\t 230 & soybean  \\\\\n",
       "\t 248 & soybean  \\\\\n",
       "\t 327 & soybean  \\\\\n",
       "\t 329 & soybean  \\\\\n",
       "\t 250 & soybean  \\\\\n",
       "\t 193 & soybean  \\\\\n",
       "\t 271 & soybean  \\\\\n",
       "\t ⋮ & ⋮\\\\\n",
       "\t 226 & sunflower\\\\\n",
       "\t 320 & sunflower\\\\\n",
       "\t 295 & sunflower\\\\\n",
       "\t 334 & sunflower\\\\\n",
       "\t 322 & sunflower\\\\\n",
       "\t 297 & sunflower\\\\\n",
       "\t 318 & sunflower\\\\\n",
       "\t 325 & meatmeal \\\\\n",
       "\t 257 & meatmeal \\\\\n",
       "\t 303 & meatmeal \\\\\n",
       "\t 315 & meatmeal \\\\\n",
       "\t 380 & meatmeal \\\\\n",
       "\t 153 & meatmeal \\\\\n",
       "\t 263 & meatmeal \\\\\n",
       "\t 242 & meatmeal \\\\\n",
       "\t 206 & meatmeal \\\\\n",
       "\t 344 & meatmeal \\\\\n",
       "\t 258 & meatmeal \\\\\n",
       "\t 368 & casein   \\\\\n",
       "\t 390 & casein   \\\\\n",
       "\t 379 & casein   \\\\\n",
       "\t 260 & casein   \\\\\n",
       "\t 404 & casein   \\\\\n",
       "\t 318 & casein   \\\\\n",
       "\t 352 & casein   \\\\\n",
       "\t 359 & casein   \\\\\n",
       "\t 216 & casein   \\\\\n",
       "\t 222 & casein   \\\\\n",
       "\t 283 & casein   \\\\\n",
       "\t 332 & casein   \\\\\n",
       "\\end{tabular}\n"
      ],
      "text/markdown": [
       "\n",
       "A data.frame: 71 × 2\n",
       "\n",
       "| weight &lt;dbl&gt; | feed &lt;fct&gt; |\n",
       "|---|---|\n",
       "| 179 | horsebean |\n",
       "| 160 | horsebean |\n",
       "| 136 | horsebean |\n",
       "| 227 | horsebean |\n",
       "| 217 | horsebean |\n",
       "| 168 | horsebean |\n",
       "| 108 | horsebean |\n",
       "| 124 | horsebean |\n",
       "| 143 | horsebean |\n",
       "| 140 | horsebean |\n",
       "| 309 | linseed   |\n",
       "| 229 | linseed   |\n",
       "| 181 | linseed   |\n",
       "| 141 | linseed   |\n",
       "| 260 | linseed   |\n",
       "| 203 | linseed   |\n",
       "| 148 | linseed   |\n",
       "| 169 | linseed   |\n",
       "| 213 | linseed   |\n",
       "| 257 | linseed   |\n",
       "| 244 | linseed   |\n",
       "| 271 | linseed   |\n",
       "| 243 | soybean   |\n",
       "| 230 | soybean   |\n",
       "| 248 | soybean   |\n",
       "| 327 | soybean   |\n",
       "| 329 | soybean   |\n",
       "| 250 | soybean   |\n",
       "| 193 | soybean   |\n",
       "| 271 | soybean   |\n",
       "| ⋮ | ⋮ |\n",
       "| 226 | sunflower |\n",
       "| 320 | sunflower |\n",
       "| 295 | sunflower |\n",
       "| 334 | sunflower |\n",
       "| 322 | sunflower |\n",
       "| 297 | sunflower |\n",
       "| 318 | sunflower |\n",
       "| 325 | meatmeal  |\n",
       "| 257 | meatmeal  |\n",
       "| 303 | meatmeal  |\n",
       "| 315 | meatmeal  |\n",
       "| 380 | meatmeal  |\n",
       "| 153 | meatmeal  |\n",
       "| 263 | meatmeal  |\n",
       "| 242 | meatmeal  |\n",
       "| 206 | meatmeal  |\n",
       "| 344 | meatmeal  |\n",
       "| 258 | meatmeal  |\n",
       "| 368 | casein    |\n",
       "| 390 | casein    |\n",
       "| 379 | casein    |\n",
       "| 260 | casein    |\n",
       "| 404 | casein    |\n",
       "| 318 | casein    |\n",
       "| 352 | casein    |\n",
       "| 359 | casein    |\n",
       "| 216 | casein    |\n",
       "| 222 | casein    |\n",
       "| 283 | casein    |\n",
       "| 332 | casein    |\n",
       "\n"
      ],
      "text/plain": [
       "   weight feed     \n",
       "1  179    horsebean\n",
       "2  160    horsebean\n",
       "3  136    horsebean\n",
       "4  227    horsebean\n",
       "5  217    horsebean\n",
       "6  168    horsebean\n",
       "7  108    horsebean\n",
       "8  124    horsebean\n",
       "9  143    horsebean\n",
       "10 140    horsebean\n",
       "11 309    linseed  \n",
       "12 229    linseed  \n",
       "13 181    linseed  \n",
       "14 141    linseed  \n",
       "15 260    linseed  \n",
       "16 203    linseed  \n",
       "17 148    linseed  \n",
       "18 169    linseed  \n",
       "19 213    linseed  \n",
       "20 257    linseed  \n",
       "21 244    linseed  \n",
       "22 271    linseed  \n",
       "23 243    soybean  \n",
       "24 230    soybean  \n",
       "25 248    soybean  \n",
       "26 327    soybean  \n",
       "27 329    soybean  \n",
       "28 250    soybean  \n",
       "29 193    soybean  \n",
       "30 271    soybean  \n",
       "⋮  ⋮      ⋮        \n",
       "42 226    sunflower\n",
       "43 320    sunflower\n",
       "44 295    sunflower\n",
       "45 334    sunflower\n",
       "46 322    sunflower\n",
       "47 297    sunflower\n",
       "48 318    sunflower\n",
       "49 325    meatmeal \n",
       "50 257    meatmeal \n",
       "51 303    meatmeal \n",
       "52 315    meatmeal \n",
       "53 380    meatmeal \n",
       "54 153    meatmeal \n",
       "55 263    meatmeal \n",
       "56 242    meatmeal \n",
       "57 206    meatmeal \n",
       "58 344    meatmeal \n",
       "59 258    meatmeal \n",
       "60 368    casein   \n",
       "61 390    casein   \n",
       "62 379    casein   \n",
       "63 260    casein   \n",
       "64 404    casein   \n",
       "65 318    casein   \n",
       "66 352    casein   \n",
       "67 359    casein   \n",
       "68 216    casein   \n",
       "69 222    casein   \n",
       "70 283    casein   \n",
       "71 332    casein   "
      ]
     },
     "metadata": {},
     "output_type": "display_data"
    },
    {
     "data": {
      "text/html": [
       "<table>\n",
       "<caption>A data.frame: 1 × 2</caption>\n",
       "<thead>\n",
       "\t<tr><th></th><th scope=col>weight</th><th scope=col>feed</th></tr>\n",
       "\t<tr><th></th><th scope=col>&lt;dbl&gt;</th><th scope=col>&lt;fct&gt;</th></tr>\n",
       "</thead>\n",
       "<tbody>\n",
       "\t<tr><th scope=row>2</th><td>160</td><td>horsebean</td></tr>\n",
       "</tbody>\n",
       "</table>\n"
      ],
      "text/latex": [
       "A data.frame: 1 × 2\n",
       "\\begin{tabular}{r|ll}\n",
       "  & weight & feed\\\\\n",
       "  & <dbl> & <fct>\\\\\n",
       "\\hline\n",
       "\t2 & 160 & horsebean\\\\\n",
       "\\end{tabular}\n"
      ],
      "text/markdown": [
       "\n",
       "A data.frame: 1 × 2\n",
       "\n",
       "| <!--/--> | weight &lt;dbl&gt; | feed &lt;fct&gt; |\n",
       "|---|---|---|\n",
       "| 2 | 160 | horsebean |\n",
       "\n"
      ],
      "text/plain": [
       "  weight feed     \n",
       "2 160    horsebean"
      ]
     },
     "metadata": {},
     "output_type": "display_data"
    },
    {
     "data": {
      "text/html": [
       "horsebean\n",
       "<details>\n",
       "\t<summary style=display:list-item;cursor:pointer>\n",
       "\t\t<strong>Levels</strong>:\n",
       "\t</summary>\n",
       "\t<ol class=list-inline>\n",
       "\t\t<li>'casein'</li>\n",
       "\t\t<li>'horsebean'</li>\n",
       "\t\t<li>'linseed'</li>\n",
       "\t\t<li>'meatmeal'</li>\n",
       "\t\t<li>'soybean'</li>\n",
       "\t\t<li>'sunflower'</li>\n",
       "\t</ol>\n",
       "</details>"
      ],
      "text/latex": [
       "horsebean\n",
       "\\emph{Levels}: \\begin{enumerate*}\n",
       "\\item 'casein'\n",
       "\\item 'horsebean'\n",
       "\\item 'linseed'\n",
       "\\item 'meatmeal'\n",
       "\\item 'soybean'\n",
       "\\item 'sunflower'\n",
       "\\end{enumerate*}\n"
      ],
      "text/markdown": [
       "horsebean\n",
       "**Levels**: 1. 'casein'\n",
       "2. 'horsebean'\n",
       "3. 'linseed'\n",
       "4. 'meatmeal'\n",
       "5. 'soybean'\n",
       "6. 'sunflower'\n",
       "\n",
       "\n"
      ],
      "text/plain": [
       "[1] horsebean\n",
       "Levels: casein horsebean linseed meatmeal soybean sunflower"
      ]
     },
     "metadata": {},
     "output_type": "display_data"
    }
   ],
   "source": [
    "cw = chickwts\n",
    "cw\n",
    "cw[2,]\n",
    "cw[2,2]"
   ]
  },
  {
   "cell_type": "code",
   "execution_count": 41,
   "metadata": {},
   "outputs": [
    {
     "data": {
      "text/html": [
       "<ol class=list-inline>\n",
       "\t<li>1</li>\n",
       "\t<li>2</li>\n",
       "\t<li>3</li>\n",
       "\t<li>4</li>\n",
       "\t<li>5</li>\n",
       "\t<li>6</li>\n",
       "\t<li>7</li>\n",
       "\t<li>8</li>\n",
       "\t<li>9</li>\n",
       "</ol>\n"
      ],
      "text/latex": [
       "\\begin{enumerate*}\n",
       "\\item 1\n",
       "\\item 2\n",
       "\\item 3\n",
       "\\item 4\n",
       "\\item 5\n",
       "\\item 6\n",
       "\\item 7\n",
       "\\item 8\n",
       "\\item 9\n",
       "\\end{enumerate*}\n"
      ],
      "text/markdown": [
       "1. 1\n",
       "2. 2\n",
       "3. 3\n",
       "4. 4\n",
       "5. 5\n",
       "6. 6\n",
       "7. 7\n",
       "8. 8\n",
       "9. 9\n",
       "\n",
       "\n"
      ],
      "text/plain": [
       "[1] 1 2 3 4 5 6 7 8 9"
      ]
     },
     "metadata": {},
     "output_type": "display_data"
    },
    {
     "data": {
      "text/html": [
       "<ol class=list-inline>\n",
       "\t<li>1</li>\n",
       "\t<li>2</li>\n",
       "\t<li>3</li>\n",
       "\t<li>4</li>\n",
       "\t<li>5</li>\n",
       "\t<li>6</li>\n",
       "\t<li>7</li>\n",
       "\t<li>8</li>\n",
       "\t<li>9</li>\n",
       "\t<li>10</li>\n",
       "\t<li>11</li>\n",
       "\t<li>12</li>\n",
       "\t<li>13</li>\n",
       "\t<li>14</li>\n",
       "\t<li>15</li>\n",
       "\t<li>16</li>\n",
       "\t<li>17</li>\n",
       "\t<li>18</li>\n",
       "\t<li>19</li>\n",
       "\t<li>20</li>\n",
       "</ol>\n"
      ],
      "text/latex": [
       "\\begin{enumerate*}\n",
       "\\item 1\n",
       "\\item 2\n",
       "\\item 3\n",
       "\\item 4\n",
       "\\item 5\n",
       "\\item 6\n",
       "\\item 7\n",
       "\\item 8\n",
       "\\item 9\n",
       "\\item 10\n",
       "\\item 11\n",
       "\\item 12\n",
       "\\item 13\n",
       "\\item 14\n",
       "\\item 15\n",
       "\\item 16\n",
       "\\item 17\n",
       "\\item 18\n",
       "\\item 19\n",
       "\\item 20\n",
       "\\end{enumerate*}\n"
      ],
      "text/markdown": [
       "1. 1\n",
       "2. 2\n",
       "3. 3\n",
       "4. 4\n",
       "5. 5\n",
       "6. 6\n",
       "7. 7\n",
       "8. 8\n",
       "9. 9\n",
       "10. 10\n",
       "11. 11\n",
       "12. 12\n",
       "13. 13\n",
       "14. 14\n",
       "15. 15\n",
       "16. 16\n",
       "17. 17\n",
       "18. 18\n",
       "19. 19\n",
       "20. 20\n",
       "\n",
       "\n"
      ],
      "text/plain": [
       " [1]  1  2  3  4  5  6  7  8  9 10 11 12 13 14 15 16 17 18 19 20"
      ]
     },
     "metadata": {},
     "output_type": "display_data"
    },
    {
     "name": "stdout",
     "output_type": "stream",
     "text": [
      "[1] 1\n"
     ]
    }
   ],
   "source": [
    "x = 1:9\n",
    "x\n",
    "if(length(x)<=10){\n",
    "    x <- c(x,10:20);\n",
    "    print(x)\n",
    "}else{\n",
    "    print(x[1])\n",
    "}"
   ]
  },
  {
   "cell_type": "code",
   "execution_count": 42,
   "metadata": {},
   "outputs": [
    {
     "data": {
      "text/html": [
       "<time datetime=\"2019-09-26\">2019-09-26</time>"
      ],
      "text/latex": [
       "2019-09-26"
      ],
      "text/markdown": [
       "2019-09-26"
      ],
      "text/plain": [
       "[1] \"2019-09-26\""
      ]
     },
     "metadata": {},
     "output_type": "display_data"
    }
   ],
   "source": [
    "Sys.Date()"
   ]
  },
  {
   "cell_type": "code",
   "execution_count": 43,
   "metadata": {},
   "outputs": [
    {
     "data": {
      "text/html": [
       "18165"
      ],
      "text/latex": [
       "18165"
      ],
      "text/markdown": [
       "18165"
      ],
      "text/plain": [
       "[1] 18165"
      ]
     },
     "metadata": {},
     "output_type": "display_data"
    }
   ],
   "source": [
    "unclass(Sys.Date())"
   ]
  },
  {
   "cell_type": "code",
   "execution_count": 52,
   "metadata": {},
   "outputs": [
    {
     "data": {
      "text/plain": [
       "[1] \"2019-09-26 11:59:47 IST\""
      ]
     },
     "metadata": {},
     "output_type": "display_data"
    },
    {
     "data": {
      "text/html": [
       "<dl>\n",
       "\t<dt>$sec</dt>\n",
       "\t\t<dd>47.916243314743</dd>\n",
       "\t<dt>$min</dt>\n",
       "\t\t<dd>59</dd>\n",
       "\t<dt>$hour</dt>\n",
       "\t\t<dd>11</dd>\n",
       "\t<dt>$mday</dt>\n",
       "\t\t<dd>26</dd>\n",
       "\t<dt>$mon</dt>\n",
       "\t\t<dd>8</dd>\n",
       "\t<dt>$year</dt>\n",
       "\t\t<dd>119</dd>\n",
       "\t<dt>$wday</dt>\n",
       "\t\t<dd>4</dd>\n",
       "\t<dt>$yday</dt>\n",
       "\t\t<dd>268</dd>\n",
       "\t<dt>$isdst</dt>\n",
       "\t\t<dd>0</dd>\n",
       "\t<dt>$zone</dt>\n",
       "\t\t<dd>'IST'</dd>\n",
       "\t<dt>$gmtoff</dt>\n",
       "\t\t<dd>19800</dd>\n",
       "</dl>\n"
      ],
      "text/latex": [
       "\\begin{description}\n",
       "\\item[\\$sec] 47.916243314743\n",
       "\\item[\\$min] 59\n",
       "\\item[\\$hour] 11\n",
       "\\item[\\$mday] 26\n",
       "\\item[\\$mon] 8\n",
       "\\item[\\$year] 119\n",
       "\\item[\\$wday] 4\n",
       "\\item[\\$yday] 268\n",
       "\\item[\\$isdst] 0\n",
       "\\item[\\$zone] 'IST'\n",
       "\\item[\\$gmtoff] 19800\n",
       "\\end{description}\n"
      ],
      "text/markdown": [
       "$sec\n",
       ":   47.916243314743\n",
       "$min\n",
       ":   59\n",
       "$hour\n",
       ":   11\n",
       "$mday\n",
       ":   26\n",
       "$mon\n",
       ":   8\n",
       "$year\n",
       ":   119\n",
       "$wday\n",
       ":   4\n",
       "$yday\n",
       ":   268\n",
       "$isdst\n",
       ":   0\n",
       "$zone\n",
       ":   'IST'\n",
       "$gmtoff\n",
       ":   19800\n",
       "\n",
       "\n"
      ],
      "text/plain": [
       "$sec\n",
       "[1] 47.91624\n",
       "\n",
       "$min\n",
       "[1] 59\n",
       "\n",
       "$hour\n",
       "[1] 11\n",
       "\n",
       "$mday\n",
       "[1] 26\n",
       "\n",
       "$mon\n",
       "[1] 8\n",
       "\n",
       "$year\n",
       "[1] 119\n",
       "\n",
       "$wday\n",
       "[1] 4\n",
       "\n",
       "$yday\n",
       "[1] 268\n",
       "\n",
       "$isdst\n",
       "[1] 0\n",
       "\n",
       "$zone\n",
       "[1] \"IST\"\n",
       "\n",
       "$gmtoff\n",
       "[1] 19800\n",
       "\n",
       "attr(,\"tzone\")\n",
       "[1] \"\"    \"IST\" \"IST\""
      ]
     },
     "metadata": {},
     "output_type": "display_data"
    }
   ],
   "source": [
    "as.POSIXct(Sys.time())\n",
    "unclass(as.POSIXlt(Sys.time()))"
   ]
  },
  {
   "cell_type": "code",
   "execution_count": 63,
   "metadata": {},
   "outputs": [
    {
     "data": {
      "image/png": "[encoded data removed]",
      "text/plain": [
       "plot without title"
      ]
     },
     "metadata": {},
     "output_type": "display_data"
    }
   ],
   "source": [
    "boxplot(Age~Survived,data = my_data)"
   ]
  },
  {
   "cell_type": "code",
   "execution_count": 3,
   "metadata": {},
   "outputs": [],
   "source": [
    "#Loop functions\n",
    "# lapply,apply,mapply,sapply,tapply\n",
    "# rnorm, runif"
   ]
  },
  {
   "cell_type": "code",
   "execution_count": 12,
   "metadata": {},
   "outputs": [
    {
     "data": {
      "text/html": [
       "<pre class=language-r><code>function (n, mean = 0, sd = 1) \n",
       ".Call(C_rnorm, n, mean, sd)</code></pre>"
      ],
      "text/latex": [
       "\\begin{minted}{r}\n",
       "function (n, mean = 0, sd = 1) \n",
       ".Call(C\\_rnorm, n, mean, sd)\n",
       "\\end{minted}"
      ],
      "text/markdown": [
       "```r\n",
       "function (n, mean = 0, sd = 1) \n",
       ".Call(C_rnorm, n, mean, sd)\n",
       "```"
      ],
      "text/plain": [
       "function (n, mean = 0, sd = 1) \n",
       ".Call(C_rnorm, n, mean, sd)\n",
       "<bytecode: 0x561906e2b968>\n",
       "<environment: namespace:stats>"
      ]
     },
     "metadata": {},
     "output_type": "display_data"
    },
    {
     "data": {
      "text/html": [
       "<ol class=list-inline>\n",
       "\t<li>0.551107986858579</li>\n",
       "\t<li>-1.3522944665067</li>\n",
       "\t<li>0.802497708602347</li>\n",
       "\t<li>0.957037983200197</li>\n",
       "\t<li>-0.897519629509121</li>\n",
       "\t<li>0.658111792544886</li>\n",
       "\t<li>-1.54198038712762</li>\n",
       "\t<li>1.32249677489997</li>\n",
       "\t<li>0.443645022171758</li>\n",
       "\t<li>0.292182639786764</li>\n",
       "</ol>\n"
      ],
      "text/latex": [
       "\\begin{enumerate*}\n",
       "\\item 0.551107986858579\n",
       "\\item -1.3522944665067\n",
       "\\item 0.802497708602347\n",
       "\\item 0.957037983200197\n",
       "\\item -0.897519629509121\n",
       "\\item 0.658111792544886\n",
       "\\item -1.54198038712762\n",
       "\\item 1.32249677489997\n",
       "\\item 0.443645022171758\n",
       "\\item 0.292182639786764\n",
       "\\end{enumerate*}\n"
      ],
      "text/markdown": [
       "1. 0.551107986858579\n",
       "2. -1.3522944665067\n",
       "3. 0.802497708602347\n",
       "4. 0.957037983200197\n",
       "5. -0.897519629509121\n",
       "6. 0.658111792544886\n",
       "7. -1.54198038712762\n",
       "8. 1.32249677489997\n",
       "9. 0.443645022171758\n",
       "10. 0.292182639786764\n",
       "\n",
       "\n"
      ],
      "text/plain": [
       " [1]  0.5511080 -1.3522945  0.8024977  0.9570380 -0.8975196  0.6581118\n",
       " [7] -1.5419804  1.3224968  0.4436450  0.2921826"
      ]
     },
     "metadata": {},
     "output_type": "display_data"
    },
    {
     "data": {
      "text/html": [
       "<ol class=list-inline>\n",
       "\t<li>1.64682286514858</li>\n",
       "\t<li>1.32698229841986</li>\n",
       "\t<li>2.38020576468183</li>\n",
       "\t<li>1.93782059308992</li>\n",
       "\t<li>2.20104293750236</li>\n",
       "\t<li>2.56336657639706</li>\n",
       "\t<li>0.755914980046945</li>\n",
       "\t<li>2.01641333212154</li>\n",
       "\t<li>0.965258312075703</li>\n",
       "\t<li>2.30339376682188</li>\n",
       "</ol>\n"
      ],
      "text/latex": [
       "\\begin{enumerate*}\n",
       "\\item 1.64682286514858\n",
       "\\item 1.32698229841986\n",
       "\\item 2.38020576468183\n",
       "\\item 1.93782059308992\n",
       "\\item 2.20104293750236\n",
       "\\item 2.56336657639706\n",
       "\\item 0.755914980046945\n",
       "\\item 2.01641333212154\n",
       "\\item 0.965258312075703\n",
       "\\item 2.30339376682188\n",
       "\\end{enumerate*}\n"
      ],
      "text/markdown": [
       "1. 1.64682286514858\n",
       "2. 1.32698229841986\n",
       "3. 2.38020576468183\n",
       "4. 1.93782059308992\n",
       "5. 2.20104293750236\n",
       "6. 2.56336657639706\n",
       "7. 0.755914980046945\n",
       "8. 2.01641333212154\n",
       "9. 0.965258312075703\n",
       "10. 2.30339376682188\n",
       "\n",
       "\n"
      ],
      "text/plain": [
       " [1] 1.6468229 1.3269823 2.3802058 1.9378206 2.2010429 2.5633666 0.7559150\n",
       " [8] 2.0164133 0.9652583 2.3033938"
      ]
     },
     "metadata": {},
     "output_type": "display_data"
    },
    {
     "data": {
      "text/html": [
       "<ol class=list-inline>\n",
       "\t<li>1.76627893666911</li>\n",
       "\t<li>1.32660320724706</li>\n",
       "\t<li>2.1079973687766</li>\n",
       "\t<li>1.20424102479312</li>\n",
       "\t<li>2.57531146069292</li>\n",
       "\t<li>0.883732759210046</li>\n",
       "\t<li>2.03763274804768</li>\n",
       "\t<li>4.01568546721388</li>\n",
       "\t<li>1.80286800820785</li>\n",
       "\t<li>1.90618098226718</li>\n",
       "</ol>\n"
      ],
      "text/latex": [
       "\\begin{enumerate*}\n",
       "\\item 1.76627893666911\n",
       "\\item 1.32660320724706\n",
       "\\item 2.1079973687766\n",
       "\\item 1.20424102479312\n",
       "\\item 2.57531146069292\n",
       "\\item 0.883732759210046\n",
       "\\item 2.03763274804768\n",
       "\\item 4.01568546721388\n",
       "\\item 1.80286800820785\n",
       "\\item 1.90618098226718\n",
       "\\end{enumerate*}\n"
      ],
      "text/markdown": [
       "1. 1.76627893666911\n",
       "2. 1.32660320724706\n",
       "3. 2.1079973687766\n",
       "4. 1.20424102479312\n",
       "5. 2.57531146069292\n",
       "6. 0.883732759210046\n",
       "7. 2.03763274804768\n",
       "8. 4.01568546721388\n",
       "9. 1.80286800820785\n",
       "10. 1.90618098226718\n",
       "\n",
       "\n"
      ],
      "text/plain": [
       " [1] 1.7662789 1.3266032 2.1079974 1.2042410 2.5753115 0.8837328 2.0376327\n",
       " [8] 4.0156855 1.8028680 1.9061810"
      ]
     },
     "metadata": {},
     "output_type": "display_data"
    },
    {
     "data": {
      "text/html": [
       "<pre class=language-r><code>function (n, min = 0, max = 1) \n",
       ".Call(C_runif, n, min, max)</code></pre>"
      ],
      "text/latex": [
       "\\begin{minted}{r}\n",
       "function (n, min = 0, max = 1) \n",
       ".Call(C\\_runif, n, min, max)\n",
       "\\end{minted}"
      ],
      "text/markdown": [
       "```r\n",
       "function (n, min = 0, max = 1) \n",
       ".Call(C_runif, n, min, max)\n",
       "```"
      ],
      "text/plain": [
       "function (n, min = 0, max = 1) \n",
       ".Call(C_runif, n, min, max)\n",
       "<bytecode: 0x5619075fe388>\n",
       "<environment: namespace:stats>"
      ]
     },
     "metadata": {},
     "output_type": "display_data"
    },
    {
     "data": {
      "text/html": [
       "<ol class=list-inline>\n",
       "\t<li>6.70290315710008</li>\n",
       "\t<li>6.79506920278072</li>\n",
       "\t<li>7.78342633508146</li>\n",
       "\t<li>3.60320770554245</li>\n",
       "\t<li>5.53730800002813</li>\n",
       "\t<li>2.87693303078413</li>\n",
       "\t<li>5.26308906823397</li>\n",
       "\t<li>7.71371496282518</li>\n",
       "\t<li>6.70799150317907</li>\n",
       "\t<li>2.81464703381062</li>\n",
       "</ol>\n"
      ],
      "text/latex": [
       "\\begin{enumerate*}\n",
       "\\item 6.70290315710008\n",
       "\\item 6.79506920278072\n",
       "\\item 7.78342633508146\n",
       "\\item 3.60320770554245\n",
       "\\item 5.53730800002813\n",
       "\\item 2.87693303078413\n",
       "\\item 5.26308906823397\n",
       "\\item 7.71371496282518\n",
       "\\item 6.70799150317907\n",
       "\\item 2.81464703381062\n",
       "\\end{enumerate*}\n"
      ],
      "text/markdown": [
       "1. 6.70290315710008\n",
       "2. 6.79506920278072\n",
       "3. 7.78342633508146\n",
       "4. 3.60320770554245\n",
       "5. 5.53730800002813\n",
       "6. 2.87693303078413\n",
       "7. 5.26308906823397\n",
       "8. 7.71371496282518\n",
       "9. 6.70799150317907\n",
       "10. 2.81464703381062\n",
       "\n",
       "\n"
      ],
      "text/plain": [
       " [1] 6.702903 6.795069 7.783426 3.603208 5.537308 2.876933 5.263089 7.713715\n",
       " [9] 6.707992 2.814647"
      ]
     },
     "metadata": {},
     "output_type": "display_data"
    }
   ],
   "source": [
    "#Generates random normal distribution numbrs\n",
    "rnorm\n",
    "rnorm(10)\n",
    "rnorm(10,2)\n",
    "rnorm(10,2,1.2)\n",
    "runif\n",
    "runif(10,2,10)"
   ]
  },
  {
   "cell_type": "code",
   "execution_count": 50,
   "metadata": {},
   "outputs": [
    {
     "data": {
      "text/html": [
       "' lapply - loops over each element of the list.\\nHas the following arguments - a list, a function, other args via lapply args '"
      ],
      "text/latex": [
       "' lapply - loops over each element of the list.\\textbackslash{}nHas the following arguments - a list, a function, other args via lapply args '"
      ],
      "text/markdown": [
       "' lapply - loops over each element of the list.\\nHas the following arguments - a list, a function, other args via lapply args '"
      ],
      "text/plain": [
       "[1] \" lapply - loops over each element of the list.\\nHas the following arguments - a list, a function, other args via lapply args \""
      ]
     },
     "metadata": {},
     "output_type": "display_data"
    },
    {
     "data": {
      "text/html": [
       "3"
      ],
      "text/latex": [
       "3"
      ],
      "text/markdown": [
       "3"
      ],
      "text/plain": [
       "[1] 3"
      ]
     },
     "metadata": {},
     "output_type": "display_data"
    },
    {
     "data": {
      "text/html": [
       "-0.0179571638559883"
      ],
      "text/latex": [
       "-0.0179571638559883"
      ],
      "text/markdown": [
       "-0.0179571638559883"
      ],
      "text/plain": [
       "[1] -0.01795716"
      ]
     },
     "metadata": {},
     "output_type": "display_data"
    },
    {
     "data": {
      "text/html": [
       "<dl>\n",
       "\t<dt>$a</dt>\n",
       "\t\t<dd>3</dd>\n",
       "\t<dt>$b</dt>\n",
       "\t\t<dd>-0.0179571638559883</dd>\n",
       "\t<dt>$c</dt>\n",
       "\t\t<dd>5.92317327645142</dd>\n",
       "</dl>\n"
      ],
      "text/latex": [
       "\\begin{description}\n",
       "\\item[\\$a] 3\n",
       "\\item[\\$b] -0.0179571638559883\n",
       "\\item[\\$c] 5.92317327645142\n",
       "\\end{description}\n"
      ],
      "text/markdown": [
       "$a\n",
       ":   3\n",
       "$b\n",
       ":   -0.0179571638559883\n",
       "$c\n",
       ":   5.92317327645142\n",
       "\n",
       "\n"
      ],
      "text/plain": [
       "$a\n",
       "[1] 3\n",
       "\n",
       "$b\n",
       "[1] -0.01795716\n",
       "\n",
       "$c\n",
       "[1] 5.923173\n"
      ]
     },
     "metadata": {},
     "output_type": "display_data"
    },
    {
     "data": {
      "text/html": [
       "<dl>\n",
       "\t<dt>$a</dt>\n",
       "\t\t<dd>15</dd>\n",
       "\t<dt>$b</dt>\n",
       "\t\t<dd>-0.179571638559883</dd>\n",
       "\t<dt>$c</dt>\n",
       "\t\t<dd>59.2317327645142</dd>\n",
       "</dl>\n"
      ],
      "text/latex": [
       "\\begin{description}\n",
       "\\item[\\$a] 15\n",
       "\\item[\\$b] -0.179571638559883\n",
       "\\item[\\$c] 59.2317327645142\n",
       "\\end{description}\n"
      ],
      "text/markdown": [
       "$a\n",
       ":   15\n",
       "$b\n",
       ":   -0.179571638559883\n",
       "$c\n",
       ":   59.2317327645142\n",
       "\n",
       "\n"
      ],
      "text/plain": [
       "$a\n",
       "[1] 15\n",
       "\n",
       "$b\n",
       "[1] -0.1795716\n",
       "\n",
       "$c\n",
       "[1] 59.23173\n"
      ]
     },
     "metadata": {},
     "output_type": "display_data"
    },
    {
     "data": {
      "text/html": [
       "<ol>\n",
       "\t<li>5.97661198815331</li>\n",
       "\t<li><ol class=list-inline>\n",
       "\t<li>6.85701014986262</li>\n",
       "\t<li>5.69738396350294</li>\n",
       "</ol>\n",
       "</li>\n",
       "\t<li><ol class=list-inline>\n",
       "\t<li>6.90831541502848</li>\n",
       "\t<li>6.39054827811196</li>\n",
       "\t<li>6.77890707785264</li>\n",
       "</ol>\n",
       "</li>\n",
       "\t<li><ol class=list-inline>\n",
       "\t<li>5.36081449035555</li>\n",
       "\t<li>6.25878170086071</li>\n",
       "\t<li>6.97912827320397</li>\n",
       "\t<li>5.26057774014771</li>\n",
       "</ol>\n",
       "</li>\n",
       "\t<li><ol class=list-inline>\n",
       "\t<li>5.66132105141878</li>\n",
       "\t<li>6.73024109331891</li>\n",
       "\t<li>6.55516887875274</li>\n",
       "\t<li>6.65460689924657</li>\n",
       "\t<li>6.20664871297777</li>\n",
       "</ol>\n",
       "</li>\n",
       "</ol>\n"
      ],
      "text/latex": [
       "\\begin{enumerate}\n",
       "\\item 5.97661198815331\n",
       "\\item \\begin{enumerate*}\n",
       "\\item 6.85701014986262\n",
       "\\item 5.69738396350294\n",
       "\\end{enumerate*}\n",
       "\n",
       "\\item \\begin{enumerate*}\n",
       "\\item 6.90831541502848\n",
       "\\item 6.39054827811196\n",
       "\\item 6.77890707785264\n",
       "\\end{enumerate*}\n",
       "\n",
       "\\item \\begin{enumerate*}\n",
       "\\item 5.36081449035555\n",
       "\\item 6.25878170086071\n",
       "\\item 6.97912827320397\n",
       "\\item 5.26057774014771\n",
       "\\end{enumerate*}\n",
       "\n",
       "\\item \\begin{enumerate*}\n",
       "\\item 5.66132105141878\n",
       "\\item 6.73024109331891\n",
       "\\item 6.55516887875274\n",
       "\\item 6.65460689924657\n",
       "\\item 6.20664871297777\n",
       "\\end{enumerate*}\n",
       "\n",
       "\\end{enumerate}\n"
      ],
      "text/markdown": [
       "1. 5.97661198815331\n",
       "2. 1. 6.85701014986262\n",
       "2. 5.69738396350294\n",
       "\n",
       "\n",
       "\n",
       "3. 1. 6.90831541502848\n",
       "2. 6.39054827811196\n",
       "3. 6.77890707785264\n",
       "\n",
       "\n",
       "\n",
       "4. 1. 5.36081449035555\n",
       "2. 6.25878170086071\n",
       "3. 6.97912827320397\n",
       "4. 5.26057774014771\n",
       "\n",
       "\n",
       "\n",
       "5. 1. 5.66132105141878\n",
       "2. 6.73024109331891\n",
       "3. 6.55516887875274\n",
       "4. 6.65460689924657\n",
       "5. 6.20664871297777\n",
       "\n",
       "\n",
       "\n",
       "\n",
       "\n"
      ],
      "text/plain": [
       "[[1]]\n",
       "[1] 5.976612\n",
       "\n",
       "[[2]]\n",
       "[1] 6.857010 5.697384\n",
       "\n",
       "[[3]]\n",
       "[1] 6.908315 6.390548 6.778907\n",
       "\n",
       "[[4]]\n",
       "[1] 5.360814 6.258782 6.979128 5.260578\n",
       "\n",
       "[[5]]\n",
       "[1] 5.661321 6.730241 6.555169 6.654607 6.206649\n"
      ]
     },
     "metadata": {},
     "output_type": "display_data"
    },
    {
     "data": {
      "text/html": [
       "<table>\n",
       "<caption>A matrix: 2 × 2 of type int</caption>\n",
       "<tbody>\n",
       "\t<tr><td>1</td><td>3</td></tr>\n",
       "\t<tr><td>2</td><td>4</td></tr>\n",
       "</tbody>\n",
       "</table>\n"
      ],
      "text/latex": [
       "A matrix: 2 × 2 of type int\n",
       "\\begin{tabular}{ll}\n",
       "\t 1 & 3\\\\\n",
       "\t 2 & 4\\\\\n",
       "\\end{tabular}\n"
      ],
      "text/markdown": [
       "\n",
       "A matrix: 2 × 2 of type int\n",
       "\n",
       "| 1 | 3 |\n",
       "| 2 | 4 |\n",
       "\n"
      ],
      "text/plain": [
       "     [,1] [,2]\n",
       "[1,] 1    3   \n",
       "[2,] 2    4   "
      ]
     },
     "metadata": {},
     "output_type": "display_data"
    },
    {
     "data": {
      "text/html": [
       "<table>\n",
       "<caption>A matrix: 3 × 2 of type int</caption>\n",
       "<tbody>\n",
       "\t<tr><td>1</td><td>4</td></tr>\n",
       "\t<tr><td>2</td><td>5</td></tr>\n",
       "\t<tr><td>3</td><td>6</td></tr>\n",
       "</tbody>\n",
       "</table>\n"
      ],
      "text/latex": [
       "A matrix: 3 × 2 of type int\n",
       "\\begin{tabular}{ll}\n",
       "\t 1 & 4\\\\\n",
       "\t 2 & 5\\\\\n",
       "\t 3 & 6\\\\\n",
       "\\end{tabular}\n"
      ],
      "text/markdown": [
       "\n",
       "A matrix: 3 × 2 of type int\n",
       "\n",
       "| 1 | 4 |\n",
       "| 2 | 5 |\n",
       "| 3 | 6 |\n",
       "\n"
      ],
      "text/plain": [
       "     [,1] [,2]\n",
       "[1,] 1    4   \n",
       "[2,] 2    5   \n",
       "[3,] 3    6   "
      ]
     },
     "metadata": {},
     "output_type": "display_data"
    },
    {
     "data": {
      "text/html": [
       "'Printing first column of each matrix in a list'"
      ],
      "text/latex": [
       "'Printing first column of each matrix in a list'"
      ],
      "text/markdown": [
       "'Printing first column of each matrix in a list'"
      ],
      "text/plain": [
       "[1] \"Printing first column of each matrix in a list\""
      ]
     },
     "metadata": {},
     "output_type": "display_data"
    },
    {
     "data": {
      "text/html": [
       "<dl>\n",
       "\t<dt>$a</dt>\n",
       "\t\t<dd><ol class=list-inline>\n",
       "\t<li>1</li>\n",
       "\t<li>2</li>\n",
       "</ol>\n",
       "</dd>\n",
       "\t<dt>$b</dt>\n",
       "\t\t<dd><ol class=list-inline>\n",
       "\t<li>1</li>\n",
       "\t<li>2</li>\n",
       "\t<li>3</li>\n",
       "</ol>\n",
       "</dd>\n",
       "</dl>\n"
      ],
      "text/latex": [
       "\\begin{description}\n",
       "\\item[\\$a] \\begin{enumerate*}\n",
       "\\item 1\n",
       "\\item 2\n",
       "\\end{enumerate*}\n",
       "\n",
       "\\item[\\$b] \\begin{enumerate*}\n",
       "\\item 1\n",
       "\\item 2\n",
       "\\item 3\n",
       "\\end{enumerate*}\n",
       "\n",
       "\\end{description}\n"
      ],
      "text/markdown": [
       "$a\n",
       ":   1. 1\n",
       "2. 2\n",
       "\n",
       "\n",
       "\n",
       "$b\n",
       ":   1. 1\n",
       "2. 2\n",
       "3. 3\n",
       "\n",
       "\n",
       "\n",
       "\n",
       "\n"
      ],
      "text/plain": [
       "$a\n",
       "[1] 1 2\n",
       "\n",
       "$b\n",
       "[1] 1 2 3\n"
      ]
     },
     "metadata": {},
     "output_type": "display_data"
    }
   ],
   "source": [
    "\" lapply - loops over each element of the list.\n",
    "Has the following arguments - a list, a function, other args via lapply args \"\n",
    "#set.seed is to set seed of RNG to ensure same RN on repeated trials.\n",
    "set.seed(100)\n",
    "x<-list(a=1:5,b=rnorm(10),c=runif(10,2,9))\n",
    "mean(x$a)\n",
    "mean(x$b)\n",
    "\n",
    "y<-1:5\n",
    "\n",
    "#Applies mean function to all elements in a\n",
    "lapply(x,mean)\n",
    "lapply(x,sum)\n",
    "\n",
    "#Setting runif's attributes.\n",
    "lapply(y,runif,min=5,max=7)\n",
    "\n",
    "c <- matrix(1:4,2,2)\n",
    "d <- matrix(1:6,3,2)\n",
    "z <- list(a=c,b=d)\n",
    "c\n",
    "d\n",
    "colprint <- function(x,removeNA=TRUE){\n",
    "    x[,1]\n",
    "}\n",
    "\"Printing first column of each matrix in a list\"\n",
    "lapply(z,colprint)"
   ]
  },
  {
   "cell_type": "code",
   "execution_count": 54,
   "metadata": {},
   "outputs": [
    {
     "data": {
      "text/html": [
       "'Using lapply'"
      ],
      "text/latex": [
       "'Using lapply'"
      ],
      "text/markdown": [
       "'Using lapply'"
      ],
      "text/plain": [
       "[1] \"Using lapply\""
      ]
     },
     "metadata": {},
     "output_type": "display_data"
    },
    {
     "data": {
      "text/html": [
       "<dl>\n",
       "\t<dt>$a</dt>\n",
       "\t\t<dd>2.5</dd>\n",
       "\t<dt>$b</dt>\n",
       "\t\t<dd>0.303718714878665</dd>\n",
       "\t<dt>$c</dt>\n",
       "\t\t<dd>3.16701014032133</dd>\n",
       "\t<dt>$d</dt>\n",
       "\t\t<dd>2.06102552962551</dd>\n",
       "</dl>\n"
      ],
      "text/latex": [
       "\\begin{description}\n",
       "\\item[\\$a] 2.5\n",
       "\\item[\\$b] 0.303718714878665\n",
       "\\item[\\$c] 3.16701014032133\n",
       "\\item[\\$d] 2.06102552962551\n",
       "\\end{description}\n"
      ],
      "text/markdown": [
       "$a\n",
       ":   2.5\n",
       "$b\n",
       ":   0.303718714878665\n",
       "$c\n",
       ":   3.16701014032133\n",
       "$d\n",
       ":   2.06102552962551\n",
       "\n",
       "\n"
      ],
      "text/plain": [
       "$a\n",
       "[1] 2.5\n",
       "\n",
       "$b\n",
       "[1] 0.3037187\n",
       "\n",
       "$c\n",
       "[1] 3.16701\n",
       "\n",
       "$d\n",
       "[1] 2.061026\n"
      ]
     },
     "metadata": {},
     "output_type": "display_data"
    },
    {
     "data": {
      "text/html": [
       "'Using sapply'"
      ],
      "text/latex": [
       "'Using sapply'"
      ],
      "text/markdown": [
       "'Using sapply'"
      ],
      "text/plain": [
       "[1] \"Using sapply\""
      ]
     },
     "metadata": {},
     "output_type": "display_data"
    },
    {
     "data": {
      "text/html": [
       "<dl class=dl-horizontal>\n",
       "\t<dt>a</dt>\n",
       "\t\t<dd>2.5</dd>\n",
       "\t<dt>b</dt>\n",
       "\t\t<dd>0.303718714878665</dd>\n",
       "\t<dt>c</dt>\n",
       "\t\t<dd>3.16701014032133</dd>\n",
       "\t<dt>d</dt>\n",
       "\t\t<dd>2.06102552962551</dd>\n",
       "</dl>\n"
      ],
      "text/latex": [
       "\\begin{description*}\n",
       "\\item[a] 2.5\n",
       "\\item[b] 0.303718714878665\n",
       "\\item[c] 3.16701014032133\n",
       "\\item[d] 2.06102552962551\n",
       "\\end{description*}\n"
      ],
      "text/markdown": [
       "a\n",
       ":   2.5b\n",
       ":   0.303718714878665c\n",
       ":   3.16701014032133d\n",
       ":   2.06102552962551\n",
       "\n"
      ],
      "text/plain": [
       "        a         b         c         d \n",
       "2.5000000 0.3037187 3.1670101 2.0610255 "
      ]
     },
     "metadata": {},
     "output_type": "display_data"
    },
    {
     "data": {
      "text/html": [
       "'Using apply'"
      ],
      "text/latex": [
       "'Using apply'"
      ],
      "text/markdown": [
       "'Using apply'"
      ],
      "text/plain": [
       "[1] \"Using apply\""
      ]
     },
     "metadata": {},
     "output_type": "display_data"
    },
    {
     "ename": "ERROR",
     "evalue": "Error in match.fun(FUN): argument \"FUN\" is missing, with no default\n",
     "output_type": "error",
     "traceback": [
      "Error in match.fun(FUN): argument \"FUN\" is missing, with no default\nTraceback:\n",
      "1. apply(1:10, mean)",
      "2. match.fun(FUN)"
     ]
    }
   ],
   "source": [
    "x <- list(a=1:4,b=rnorm(10),c=rnorm(12,3),d=rnorm(10,2))\n",
    "\"Using lapply\"\n",
    "lapply(x,mean)\n",
    "\"Using sapply\"\n",
    "sapply(x,mean)"
   ]
  },
  {
   "cell_type": "code",
   "execution_count": 93,
   "metadata": {
    "scrolled": true
   },
   "outputs": [
    {
     "name": "stdout",
     "output_type": "stream",
     "text": [
      "function (X, MARGIN, FUN, ...)  \n"
     ]
    },
    {
     "data": {
      "text/html": [
       "<table>\n",
       "<caption>A matrix: 2 × 3 of type int</caption>\n",
       "<tbody>\n",
       "\t<tr><td>1</td><td>3</td><td>5</td></tr>\n",
       "\t<tr><td>2</td><td>4</td><td>6</td></tr>\n",
       "</tbody>\n",
       "</table>\n"
      ],
      "text/latex": [
       "A matrix: 2 × 3 of type int\n",
       "\\begin{tabular}{lll}\n",
       "\t 1 & 3 & 5\\\\\n",
       "\t 2 & 4 & 6\\\\\n",
       "\\end{tabular}\n"
      ],
      "text/markdown": [
       "\n",
       "A matrix: 2 × 3 of type int\n",
       "\n",
       "| 1 | 3 | 5 |\n",
       "| 2 | 4 | 6 |\n",
       "\n"
      ],
      "text/plain": [
       "     [,1] [,2] [,3]\n",
       "[1,] 1    3    5   \n",
       "[2,] 2    4    6   "
      ]
     },
     "metadata": {},
     "output_type": "display_data"
    },
    {
     "data": {
      "text/html": [
       "<span style=white-space:pre-wrap>'Here:\\n-x: an array or matrix\\n-MARGIN:  take a value or range between 1 and 2 to define where to apply the function:\\n-MARGIN=1`: the manipulation is performed on rows\\n-MARGIN=2`: the manipulation is performed on columns\\n-MARGIN=c(1,2)` the manipulation is performed on rows and columns\\n-FUN: tells which function to apply. Built functions like mean, median, sum, min, max and even user-defined functions can be applied&gt;'</span>"
      ],
      "text/latex": [
       "'Here:\\textbackslash{}n-x: an array or matrix\\textbackslash{}n-MARGIN:  take a value or range between 1 and 2 to define where to apply the function:\\textbackslash{}n-MARGIN=1`: the manipulation is performed on rows\\textbackslash{}n-MARGIN=2`: the manipulation is performed on columns\\textbackslash{}n-MARGIN=c(1,2)` the manipulation is performed on rows and columns\\textbackslash{}n-FUN: tells which function to apply. Built functions like mean, median, sum, min, max and even user-defined functions can be applied>'"
      ],
      "text/markdown": [
       "<span style=white-space:pre-wrap>'Here:\\n-x: an array or matrix\\n-MARGIN:  take a value or range between 1 and 2 to define where to apply the function:\\n-MARGIN=1`: the manipulation is performed on rows\\n-MARGIN=2`: the manipulation is performed on columns\\n-MARGIN=c(1,2)` the manipulation is performed on rows and columns\\n-FUN: tells which function to apply. Built functions like mean, median, sum, min, max and even user-defined functions can be applied&gt;'</span>"
      ],
      "text/plain": [
       "[1] \"Here:\\n-x: an array or matrix\\n-MARGIN:  take a value or range between 1 and 2 to define where to apply the function:\\n-MARGIN=1`: the manipulation is performed on rows\\n-MARGIN=2`: the manipulation is performed on columns\\n-MARGIN=c(1,2)` the manipulation is performed on rows and columns\\n-FUN: tells which function to apply. Built functions like mean, median, sum, min, max and even user-defined functions can be applied>\""
      ]
     },
     "metadata": {},
     "output_type": "display_data"
    },
    {
     "data": {
      "text/html": [
       "5.5"
      ],
      "text/latex": [
       "5.5"
      ],
      "text/markdown": [
       "5.5"
      ],
      "text/plain": [
       "[1] 5.5"
      ]
     },
     "metadata": {},
     "output_type": "display_data"
    },
    {
     "data": {
      "text/html": [
       "'Mean of all rows and all columns'"
      ],
      "text/latex": [
       "'Mean of all rows and all columns'"
      ],
      "text/markdown": [
       "'Mean of all rows and all columns'"
      ],
      "text/plain": [
       "[1] \"Mean of all rows and all columns\""
      ]
     },
     "metadata": {},
     "output_type": "display_data"
    },
    {
     "data": {
      "text/html": [
       "<table>\n",
       "<caption>A matrix: 2 × 2 of type dbl</caption>\n",
       "<tbody>\n",
       "\t<tr><td>-0.1199659</td><td>-0.600989468</td></tr>\n",
       "\t<tr><td>-0.5220396</td><td>-0.002850446</td></tr>\n",
       "</tbody>\n",
       "</table>\n"
      ],
      "text/latex": [
       "A matrix: 2 × 2 of type dbl\n",
       "\\begin{tabular}{ll}\n",
       "\t -0.1199659 & -0.600989468\\\\\n",
       "\t -0.5220396 & -0.002850446\\\\\n",
       "\\end{tabular}\n"
      ],
      "text/markdown": [
       "\n",
       "A matrix: 2 × 2 of type dbl\n",
       "\n",
       "| -0.1199659 | -0.600989468 |\n",
       "| -0.5220396 | -0.002850446 |\n",
       "\n"
      ],
      "text/plain": [
       "     [,1]       [,2]        \n",
       "[1,] -0.1199659 -0.600989468\n",
       "[2,] -0.5220396 -0.002850446"
      ]
     },
     "metadata": {},
     "output_type": "display_data"
    },
    {
     "data": {
      "text/html": [
       "'Sum of all rows and all columns in the array'"
      ],
      "text/latex": [
       "'Sum of all rows and all columns in the array'"
      ],
      "text/markdown": [
       "'Sum of all rows and all columns in the array'"
      ],
      "text/plain": [
       "[1] \"Sum of all rows and all columns in the array\""
      ]
     },
     "metadata": {},
     "output_type": "display_data"
    },
    {
     "data": {
      "text/html": [
       "<ol class=list-inline>\n",
       "\t<li>10</li>\n",
       "\t<li>10</li>\n",
       "\t<li>10</li>\n",
       "\t<li>10</li>\n",
       "\t<li>10</li>\n",
       "\t<li>10</li>\n",
       "\t<li>10</li>\n",
       "\t<li>10</li>\n",
       "\t<li>10</li>\n",
       "\t<li>10</li>\n",
       "</ol>\n"
      ],
      "text/latex": [
       "\\begin{enumerate*}\n",
       "\\item 10\n",
       "\\item 10\n",
       "\\item 10\n",
       "\\item 10\n",
       "\\item 10\n",
       "\\item 10\n",
       "\\item 10\n",
       "\\item 10\n",
       "\\item 10\n",
       "\\item 10\n",
       "\\end{enumerate*}\n"
      ],
      "text/markdown": [
       "1. 10\n",
       "2. 10\n",
       "3. 10\n",
       "4. 10\n",
       "5. 10\n",
       "6. 10\n",
       "7. 10\n",
       "8. 10\n",
       "9. 10\n",
       "10. 10\n",
       "\n",
       "\n"
      ],
      "text/plain": [
       ", , 1\n",
       "\n",
       "     [,1] [,2]\n",
       "[1,]   10   10\n",
       "\n",
       ", , 2\n",
       "\n",
       "     [,1] [,2]\n",
       "[1,]   10   10\n",
       "\n",
       ", , 3\n",
       "\n",
       "     [,1] [,2]\n",
       "[1,]   10   10\n",
       "\n",
       ", , 4\n",
       "\n",
       "     [,1] [,2]\n",
       "[1,]   10   10\n",
       "\n",
       ", , 5\n",
       "\n",
       "     [,1] [,2]\n",
       "[1,]   10   10\n"
      ]
     },
     "metadata": {},
     "output_type": "display_data"
    },
    {
     "data": {
      "text/html": [
       "<table>\n",
       "<caption>A matrix: 1 × 2 of type dbl</caption>\n",
       "<tbody>\n",
       "\t<tr><td>50</td><td>50</td></tr>\n",
       "</tbody>\n",
       "</table>\n"
      ],
      "text/latex": [
       "A matrix: 1 × 2 of type dbl\n",
       "\\begin{tabular}{ll}\n",
       "\t 50 & 50\\\\\n",
       "\\end{tabular}\n"
      ],
      "text/markdown": [
       "\n",
       "A matrix: 1 × 2 of type dbl\n",
       "\n",
       "| 50 | 50 |\n",
       "\n"
      ],
      "text/plain": [
       "     [,1] [,2]\n",
       "[1,] 50   50  "
      ]
     },
     "metadata": {},
     "output_type": "display_data"
    }
   ],
   "source": [
    "#apply function, usually used on matrices.\n",
    "str(apply)\n",
    "mat <- matrix(1:6,2,)\n",
    "mat\n",
    "\n",
    "\"Here:\n",
    "-x: an array or matrix\n",
    "-MARGIN:  take a value or range between 1 and 2 to define where to apply the function:\n",
    "-MARGIN=1`: the manipulation is performed on rows\n",
    "-MARGIN=2`: the manipulation is performed on columns\n",
    "-MARGIN=c(1,2)` the manipulation is performed on rows and columns\n",
    "-FUN: tells which function to apply. Built functions like mean, median, sum, min, max and even user-defined functions can be applied>\"\n",
    "\n",
    "#Mean of the third column\n",
    "apply(mat,2,mean)[3]\n",
    "\n",
    "a <- array(rnorm(2*2*10),c(2,2,10))\n",
    "\"Mean of all rows and all columns\"\n",
    "apply(a,c(1,2),mean)\n",
    "\n",
    "\"Sum of all rows and all columns in the array\"\n",
    "arr<-array(10,c(1,2,5))\n",
    "arr\n",
    "apply(arr,c(1,2),sum)"
   ]
  },
  {
   "cell_type": "code",
   "execution_count": 102,
   "metadata": {},
   "outputs": [
    {
     "name": "stdout",
     "output_type": "stream",
     "text": [
      "function (FUN, ..., MoreArgs = NULL, SIMPLIFY = TRUE, USE.NAMES = TRUE)  \n"
     ]
    },
    {
     "data": {
      "text/html": [
       "<ol>\n",
       "\t<li><ol class=list-inline>\n",
       "\t<li>1</li>\n",
       "\t<li>1</li>\n",
       "\t<li>1</li>\n",
       "\t<li>1</li>\n",
       "</ol>\n",
       "</li>\n",
       "\t<li><ol class=list-inline>\n",
       "\t<li>2</li>\n",
       "\t<li>2</li>\n",
       "\t<li>2</li>\n",
       "</ol>\n",
       "</li>\n",
       "\t<li><ol class=list-inline>\n",
       "\t<li>3</li>\n",
       "\t<li>3</li>\n",
       "</ol>\n",
       "</li>\n",
       "\t<li>4</li>\n",
       "</ol>\n"
      ],
      "text/latex": [
       "\\begin{enumerate}\n",
       "\\item \\begin{enumerate*}\n",
       "\\item 1\n",
       "\\item 1\n",
       "\\item 1\n",
       "\\item 1\n",
       "\\end{enumerate*}\n",
       "\n",
       "\\item \\begin{enumerate*}\n",
       "\\item 2\n",
       "\\item 2\n",
       "\\item 2\n",
       "\\end{enumerate*}\n",
       "\n",
       "\\item \\begin{enumerate*}\n",
       "\\item 3\n",
       "\\item 3\n",
       "\\end{enumerate*}\n",
       "\n",
       "\\item 4\n",
       "\\end{enumerate}\n"
      ],
      "text/markdown": [
       "1. 1. 1\n",
       "2. 1\n",
       "3. 1\n",
       "4. 1\n",
       "\n",
       "\n",
       "\n",
       "2. 1. 2\n",
       "2. 2\n",
       "3. 2\n",
       "\n",
       "\n",
       "\n",
       "3. 1. 3\n",
       "2. 3\n",
       "\n",
       "\n",
       "\n",
       "4. 4\n",
       "\n",
       "\n"
      ],
      "text/plain": [
       "[[1]]\n",
       "[1] 1 1 1 1\n",
       "\n",
       "[[2]]\n",
       "[1] 2 2 2\n",
       "\n",
       "[[3]]\n",
       "[1] 3 3\n",
       "\n",
       "[[4]]\n",
       "[1] 4\n"
      ]
     },
     "metadata": {},
     "output_type": "display_data"
    }
   ],
   "source": [
    "#mapply is for multivariate data.\n",
    "str(mapply)\n",
    "x <- 1:4\n",
    "y <- 4:1\n",
    "mapply(rep,x,y)"
   ]
  },
  {
   "cell_type": "code",
   "execution_count": 108,
   "metadata": {},
   "outputs": [
    {
     "data": {
      "text/html": [
       "<dl>\n",
       "\t<dt>$`1`</dt>\n",
       "\t\t<dd><ol class=list-inline>\n",
       "\t<li>-0.821346862163848</li>\n",
       "\t<li>1.73638165767835</li>\n",
       "</ol>\n",
       "</dd>\n",
       "\t<dt>$`2`</dt>\n",
       "\t\t<dd><ol class=list-inline>\n",
       "\t<li>0.163737697759643</li>\n",
       "\t<li>0.931531016714871</li>\n",
       "</ol>\n",
       "</dd>\n",
       "\t<dt>$`3`</dt>\n",
       "\t\t<dd><ol class=list-inline>\n",
       "\t<li>0.787571215759126</li>\n",
       "\t<li>4.0972531381106</li>\n",
       "</ol>\n",
       "</dd>\n",
       "</dl>\n"
      ],
      "text/latex": [
       "\\begin{description}\n",
       "\\item[\\$`1`] \\begin{enumerate*}\n",
       "\\item -0.821346862163848\n",
       "\\item 1.73638165767835\n",
       "\\end{enumerate*}\n",
       "\n",
       "\\item[\\$`2`] \\begin{enumerate*}\n",
       "\\item 0.163737697759643\n",
       "\\item 0.931531016714871\n",
       "\\end{enumerate*}\n",
       "\n",
       "\\item[\\$`3`] \\begin{enumerate*}\n",
       "\\item 0.787571215759126\n",
       "\\item 4.0972531381106\n",
       "\\end{enumerate*}\n",
       "\n",
       "\\end{description}\n"
      ],
      "text/markdown": [
       "$`1`\n",
       ":   1. -0.821346862163848\n",
       "2. 1.73638165767835\n",
       "\n",
       "\n",
       "\n",
       "$`2`\n",
       ":   1. 0.163737697759643\n",
       "2. 0.931531016714871\n",
       "\n",
       "\n",
       "\n",
       "$`3`\n",
       ":   1. 0.787571215759126\n",
       "2. 4.0972531381106\n",
       "\n",
       "\n",
       "\n",
       "\n",
       "\n"
      ],
      "text/plain": [
       "$`1`\n",
       "[1] -0.8213469  1.7363817\n",
       "\n",
       "$`2`\n",
       "[1] 0.1637377 0.9315310\n",
       "\n",
       "$`3`\n",
       "[1] 0.7875712 4.0972531\n"
      ]
     },
     "metadata": {},
     "output_type": "display_data"
    }
   ],
   "source": [
    "x <- c(rnorm(10),runif(10),rnorm(10,1))\n",
    "f <- gl(3,10)\n",
    "\n",
    "tapply(x,f,range)"
   ]
  },
  {
   "cell_type": "code",
   "execution_count": null,
   "metadata": {},
   "outputs": [],
   "source": []
  }
 ],
 "metadata": {
  "kernelspec": {
   "display_name": "R",
   "language": "R",
   "name": "ir"
  },
  "language_info": {
   "codemirror_mode": "r",
   "file_extension": ".r",
   "mimetype": "text/x-r-source",
   "name": "R",
   "pygments_lexer": "r",
   "version": "3.4.4"
  }
 },
 "nbformat": 4,
 "nbformat_minor": 2
}
